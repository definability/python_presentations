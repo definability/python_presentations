{
 "cells": [
  {
   "cell_type": "markdown",
   "id": "47eeae20-fb25-4600-af50-3f920a1d5415",
   "metadata": {
    "slideshow": {
     "slide_type": "slide"
    },
    "tags": []
   },
   "source": [
    "# Numba"
   ]
  },
  {
   "cell_type": "code",
   "execution_count": 1,
   "id": "b0277ffb-f061-46e9-b76b-010d879fb898",
   "metadata": {},
   "outputs": [
    {
     "name": "stdout",
     "output_type": "stream",
     "text": [
      "NumPy version of this slideshow is 1.20.3\n",
      "numba version of this slideshow is 0.54.1\n"
     ]
    }
   ],
   "source": [
    "from numba import (\n",
    "    __version__ as numba_version,\n",
    "    jit,\n",
    "    njit,\n",
    "    TypingError,\n",
    ")\n",
    "from numpy import (\n",
    "    __version__ as numpy_version,\n",
    "    array,\n",
    ")\n",
    "from time import time\n",
    "\n",
    "print(\"NumPy version of this slideshow is\", numpy_version)\n",
    "print(\"numba version of this slideshow is\", numba_version)"
   ]
  },
  {
   "cell_type": "markdown",
   "id": "18b53fd2-a8a2-4a4c-93d2-fc8da1d445cb",
   "metadata": {
    "slideshow": {
     "slide_type": "slide"
    },
    "tags": []
   },
   "source": [
    "# Getting started\n",
    "\n",
    "[numba](https://numba.pydata.org/) is a library that provides JIT (just-in-time) and AOT (ahead-of-time) compiler for Python like [jax](https://github.com/google/jax).\n",
    "\n",
    "It also allows you to write parallel code easily (like [OpenMP](https://www.openmp.org/) for C/C++/Fortran)\n",
    "as well as [CUDA](https://developer.nvidia.com/cuda-toolkit).\n",
    "\n",
    "It works well enough with [numpy](https://numpy.org/) but misses convenient [features](https://numba.pydata.org/numba-doc/dev/reference/numpysupported.html),\n",
    "though they can be efficiently implemented with `numba`."
   ]
  },
  {
   "cell_type": "markdown",
   "id": "f7f367a0-768b-4cbf-8531-727089ca7cd0",
   "metadata": {
    "slideshow": {
     "slide_type": "slide"
    },
    "tags": []
   },
   "source": [
    "# Example"
   ]
  },
  {
   "cell_type": "markdown",
   "id": "5fda6f3d-a8ac-48f1-a7ce-bb6035f6f2f3",
   "metadata": {
    "slideshow": {
     "slide_type": "subslide"
    },
    "tags": []
   },
   "source": [
    "## Basic usage\n",
    "\n",
    "You can use `@jit` decorator for your functions "
   ]
  },
  {
   "cell_type": "code",
   "execution_count": 2,
   "id": "3ce3f847-0508-498a-80d5-4e20fd8778e8",
   "metadata": {
    "slideshow": {
     "slide_type": "fragment"
    },
    "tags": []
   },
   "outputs": [],
   "source": [
    "@jit\n",
    "def f(x):\n",
    "    return 0"
   ]
  },
  {
   "cell_type": "markdown",
   "id": "62adc60b-fc77-43a0-b919-217717019ff8",
   "metadata": {},
   "source": [
    "The function is compiled just-in-time &mdash; only when you call it.\n",
    "Now, the function doesn't have any assembly."
   ]
  },
  {
   "cell_type": "code",
   "execution_count": 3,
   "id": "db5b0650-a57c-4718-9762-241e21176310",
   "metadata": {
    "slideshow": {
     "slide_type": "fragment"
    },
    "tags": []
   },
   "outputs": [
    {
     "name": "stdout",
     "output_type": "stream",
     "text": [
      "{}\n"
     ]
    }
   ],
   "source": [
    "print(f.inspect_asm())"
   ]
  },
  {
   "cell_type": "markdown",
   "id": "ab39346b-2082-47ae-b3a3-4736f0ff6a80",
   "metadata": {
    "slideshow": {
     "slide_type": "subslide"
    },
    "tags": []
   },
   "source": [
    "Let us call it with `None` and see that now we have a signature for a tuple of arguments `(none, )`."
   ]
  },
  {
   "cell_type": "code",
   "execution_count": 4,
   "id": "73332426-bbac-4f57-a674-c3c24f72421b",
   "metadata": {
    "slideshow": {
     "slide_type": "fragment"
    },
    "tags": []
   },
   "outputs": [
    {
     "name": "stdout",
     "output_type": "stream",
     "text": [
      "[(none,)]\n"
     ]
    }
   ],
   "source": [
    "f(None)\n",
    "print(list(f.inspect_asm().keys()))\n",
    "# for v, k in f.inspect_asm().items():\n",
    "#     print(v, k)"
   ]
  },
  {
   "cell_type": "markdown",
   "id": "21604bf3-ee97-4369-9f9c-aca1fcc2d440",
   "metadata": {
    "tags": []
   },
   "source": [
    "Call it with integer parameter &mdash; you will have one more overload of the function."
   ]
  },
  {
   "cell_type": "code",
   "execution_count": 5,
   "id": "8a4d6e5a-adb6-428e-ae35-78a1f860f66f",
   "metadata": {
    "slideshow": {
     "slide_type": "fragment"
    },
    "tags": []
   },
   "outputs": [
    {
     "name": "stdout",
     "output_type": "stream",
     "text": [
      "[(none,), (int64,)]\n"
     ]
    }
   ],
   "source": [
    "f(0)\n",
    "print(list(f.inspect_asm().keys()))"
   ]
  },
  {
   "cell_type": "markdown",
   "id": "c1ee80d8-e2df-41cc-8ed9-baca2d14566e",
   "metadata": {
    "slideshow": {
     "slide_type": "subslide"
    },
    "tags": []
   },
   "source": [
    "## Want to see more?"
   ]
  },
  {
   "cell_type": "code",
   "execution_count": 6,
   "id": "961d3995-82b5-429c-b230-a88dd112829e",
   "metadata": {
    "slideshow": {
     "slide_type": "fragment"
    },
    "tags": []
   },
   "outputs": [
    {
     "name": "stdout",
     "output_type": "stream",
     "text": [
      "(none,) \t.text\n",
      "\t.file\t\"<string>\"\n",
      "\t.globl\t_ZN8__main__5f$241Ev\n",
      "\t.p2align\t4, 0x90\n",
      "\t.type\t_ZN8__main__5f$241Ev,@function\n",
      "_ZN8__main__5f$241Ev:\n",
      "\tmovq\t$0, (%rdi)\n",
      "\txorl\t%eax, %eax\n",
      "\tretq\n",
      ".Lfunc_end0:\n",
      "\t.size\t_ZN8__main__5f$241Ev, .Lfunc_end0-_ZN8__main__5f$241Ev\n",
      "\n",
      "\t.globl\t_ZN7cpython8__main__5f$241Ev\n",
      "\t.p2align\t4, 0x90\n",
      "\t.type\t_ZN7cpython8__main__5f$241Ev,@function\n",
      "_ZN7cpython8__main__5f$241Ev:\n",
      "\t.cfi_startproc\n",
      "\tsubq\t$24, %rsp\n",
      "\t.cfi_def_cfa_offset 32\n",
      "\tmovq\t%rsi, %rdi\n",
      "\tmovabsq\t$.const.f, %rsi\n",
      "\tmovabsq\t$PyArg_UnpackTuple, %r9\n",
      "\tleaq\t16(%rsp), %r8\n",
      "\tmovl\t$1, %edx\n",
      "\tmovl\t$1, %ecx\n",
      "\txorl\t%eax, %eax\n",
      "\tcallq\t*%r9\n",
      "\tmovq\t$0, 8(%rsp)\n",
      "\ttestl\t%eax, %eax\n",
      "\tje\t.LBB1_3\n",
      "\tmovabsq\t$_ZN08NumbaEnv8__main__5f$241Ev, %rax\n",
      "\tcmpq\t$0, (%rax)\n",
      "\tje\t.LBB1_2\n",
      "\tmovabsq\t$_ZN8__main__5f$241Ev, %rax\n",
      "\tleaq\t8(%rsp), %rdi\n",
      "\tcallq\t*%rax\n",
      "\tmovabsq\t$PyLong_FromLongLong, %rax\n",
      "\txorl\t%edi, %edi\n",
      "\tcallq\t*%rax\n",
      "\taddq\t$24, %rsp\n",
      "\t.cfi_def_cfa_offset 8\n",
      "\tretq\n",
      ".LBB1_2:\n",
      "\t.cfi_def_cfa_offset 32\n",
      "\tmovabsq\t$PyExc_RuntimeError, %rdi\n",
      "\tmovabsq\t$\".const.missing Environment: _ZN08NumbaEnv8__main__5f$241Ev\", %rsi\n",
      "\tmovabsq\t$PyErr_SetString, %rax\n",
      "\tcallq\t*%rax\n",
      ".LBB1_3:\n",
      "\txorl\t%eax, %eax\n",
      "\taddq\t$24, %rsp\n",
      "\t.cfi_def_cfa_offset 8\n",
      "\tretq\n",
      ".Lfunc_end1:\n",
      "\t.size\t_ZN7cpython8__main__5f$241Ev, .Lfunc_end1-_ZN7cpython8__main__5f$241Ev\n",
      "\t.cfi_endproc\n",
      "\n",
      "\t.globl\tcfunc._ZN8__main__5f$241Ev\n",
      "\t.p2align\t4, 0x90\n",
      "\t.type\tcfunc._ZN8__main__5f$241Ev,@function\n",
      "cfunc._ZN8__main__5f$241Ev:\n",
      "\tpushq\t%rax\n",
      "\tmovq\t$0, (%rsp)\n",
      "\tmovabsq\t$_ZN8__main__5f$241Ev, %rax\n",
      "\tmovq\t%rsp, %rdi\n",
      "\tcallq\t*%rax\n",
      "\tmovq\t(%rsp), %rax\n",
      "\tpopq\t%rcx\n",
      "\tretq\n",
      ".Lfunc_end2:\n",
      "\t.size\tcfunc._ZN8__main__5f$241Ev, .Lfunc_end2-cfunc._ZN8__main__5f$241Ev\n",
      "\n",
      "\t.type\t_ZN08NumbaEnv8__main__5f$241Ev,@object\n",
      "\t.comm\t_ZN08NumbaEnv8__main__5f$241Ev,8,8\n",
      "\t.type\t.const.f,@object\n",
      "\t.section\t.rodata,\"a\",@progbits\n",
      ".const.f:\n",
      "\t.asciz\t\"f\"\n",
      "\t.size\t.const.f, 2\n",
      "\n",
      "\t.type\t\".const.missing Environment: _ZN08NumbaEnv8__main__5f$241Ev\",@object\n",
      "\t.p2align\t4\n",
      "\".const.missing Environment: _ZN08NumbaEnv8__main__5f$241Ev\":\n",
      "\t.asciz\t\"missing Environment: _ZN08NumbaEnv8__main__5f$241Ev\"\n",
      "\t.size\t\".const.missing Environment: _ZN08NumbaEnv8__main__5f$241Ev\", 52\n",
      "\n",
      "\t.section\t\".note.GNU-stack\",\"\",@progbits\n",
      "\n",
      "(int64,) \t.text\n",
      "\t.file\t\"<string>\"\n",
      "\t.globl\t_ZN8__main__5f$242Ex\n",
      "\t.p2align\t4, 0x90\n",
      "\t.type\t_ZN8__main__5f$242Ex,@function\n",
      "_ZN8__main__5f$242Ex:\n",
      "\tmovq\t$0, (%rdi)\n",
      "\txorl\t%eax, %eax\n",
      "\tretq\n",
      ".Lfunc_end0:\n",
      "\t.size\t_ZN8__main__5f$242Ex, .Lfunc_end0-_ZN8__main__5f$242Ex\n",
      "\n",
      "\t.globl\t_ZN7cpython8__main__5f$242Ex\n",
      "\t.p2align\t4, 0x90\n",
      "\t.type\t_ZN7cpython8__main__5f$242Ex,@function\n",
      "_ZN7cpython8__main__5f$242Ex:\n",
      "\t.cfi_startproc\n",
      "\tpushq\t%rbx\n",
      "\t.cfi_def_cfa_offset 16\n",
      "\tsubq\t$16, %rsp\n",
      "\t.cfi_def_cfa_offset 32\n",
      "\t.cfi_offset %rbx, -16\n",
      "\tmovq\t%rsi, %rdi\n",
      "\tmovabsq\t$.const.f, %rsi\n",
      "\tmovabsq\t$PyArg_UnpackTuple, %rbx\n",
      "\tleaq\t8(%rsp), %r8\n",
      "\tmovl\t$1, %edx\n",
      "\tmovl\t$1, %ecx\n",
      "\txorl\t%eax, %eax\n",
      "\tcallq\t*%rbx\n",
      "\tmovq\t$0, (%rsp)\n",
      "\ttestl\t%eax, %eax\n",
      "\tje\t.LBB1_1\n",
      "\tmovabsq\t$_ZN08NumbaEnv8__main__5f$242Ex, %rax\n",
      "\tcmpq\t$0, (%rax)\n",
      "\tje\t.LBB1_4\n",
      "\tmovq\t8(%rsp), %rdi\n",
      "\tmovabsq\t$PyNumber_Long, %rax\n",
      "\tcallq\t*%rax\n",
      "\ttestq\t%rax, %rax\n",
      "\tje\t.LBB1_7\n",
      "\tmovq\t%rax, %rbx\n",
      "\tmovabsq\t$PyLong_AsLongLong, %rax\n",
      "\tmovq\t%rbx, %rdi\n",
      "\tcallq\t*%rax\n",
      "\tmovabsq\t$Py_DecRef, %rax\n",
      "\tmovq\t%rbx, %rdi\n",
      "\tcallq\t*%rax\n",
      ".LBB1_7:\n",
      "\tmovabsq\t$PyErr_Occurred, %rax\n",
      "\tcallq\t*%rax\n",
      "\ttestq\t%rax, %rax\n",
      "\tjne\t.LBB1_1\n",
      "\tmovabsq\t$_ZN8__main__5f$242Ex, %rax\n",
      "\tmovq\t%rsp, %rdi\n",
      "\tcallq\t*%rax\n",
      "\tmovabsq\t$PyLong_FromLongLong, %rax\n",
      "\txorl\t%edi, %edi\n",
      "\tcallq\t*%rax\n",
      "\taddq\t$16, %rsp\n",
      "\t.cfi_def_cfa_offset 16\n",
      "\tpopq\t%rbx\n",
      "\t.cfi_def_cfa_offset 8\n",
      "\tretq\n",
      ".LBB1_4:\n",
      "\t.cfi_def_cfa_offset 32\n",
      "\tmovabsq\t$PyExc_RuntimeError, %rdi\n",
      "\tmovabsq\t$\".const.missing Environment: _ZN08NumbaEnv8__main__5f$242Ex\", %rsi\n",
      "\tmovabsq\t$PyErr_SetString, %rax\n",
      "\tcallq\t*%rax\n",
      ".LBB1_1:\n",
      "\txorl\t%eax, %eax\n",
      "\taddq\t$16, %rsp\n",
      "\t.cfi_def_cfa_offset 16\n",
      "\tpopq\t%rbx\n",
      "\t.cfi_def_cfa_offset 8\n",
      "\tretq\n",
      ".Lfunc_end1:\n",
      "\t.size\t_ZN7cpython8__main__5f$242Ex, .Lfunc_end1-_ZN7cpython8__main__5f$242Ex\n",
      "\t.cfi_endproc\n",
      "\n",
      "\t.globl\tcfunc._ZN8__main__5f$242Ex\n",
      "\t.p2align\t4, 0x90\n",
      "\t.type\tcfunc._ZN8__main__5f$242Ex,@function\n",
      "cfunc._ZN8__main__5f$242Ex:\n",
      "\tpushq\t%rax\n",
      "\tmovq\t$0, (%rsp)\n",
      "\tmovabsq\t$_ZN8__main__5f$242Ex, %rax\n",
      "\tmovq\t%rsp, %rdi\n",
      "\tcallq\t*%rax\n",
      "\tmovq\t(%rsp), %rax\n",
      "\tpopq\t%rcx\n",
      "\tretq\n",
      ".Lfunc_end2:\n",
      "\t.size\tcfunc._ZN8__main__5f$242Ex, .Lfunc_end2-cfunc._ZN8__main__5f$242Ex\n",
      "\n",
      "\t.type\t_ZN08NumbaEnv8__main__5f$242Ex,@object\n",
      "\t.comm\t_ZN08NumbaEnv8__main__5f$242Ex,8,8\n",
      "\t.type\t.const.f,@object\n",
      "\t.section\t.rodata,\"a\",@progbits\n",
      ".const.f:\n",
      "\t.asciz\t\"f\"\n",
      "\t.size\t.const.f, 2\n",
      "\n",
      "\t.type\t\".const.missing Environment: _ZN08NumbaEnv8__main__5f$242Ex\",@object\n",
      "\t.p2align\t4\n",
      "\".const.missing Environment: _ZN08NumbaEnv8__main__5f$242Ex\":\n",
      "\t.asciz\t\"missing Environment: _ZN08NumbaEnv8__main__5f$242Ex\"\n",
      "\t.size\t\".const.missing Environment: _ZN08NumbaEnv8__main__5f$242Ex\", 52\n",
      "\n",
      "\t.section\t\".note.GNU-stack\",\"\",@progbits\n",
      "\n"
     ]
    }
   ],
   "source": [
    "for v, k in f.inspect_asm().items():\n",
    "    print(v, k)"
   ]
  },
  {
   "cell_type": "markdown",
   "id": "d4ea8154-529e-42b1-9988-54ee2494e6c1",
   "metadata": {
    "slideshow": {
     "slide_type": "slide"
    },
    "tags": []
   },
   "source": [
    "# Why should I care?"
   ]
  },
  {
   "cell_type": "markdown",
   "id": "b3c7a6ac-a4f4-4812-8e30-f21c9d6be94b",
   "metadata": {
    "slideshow": {
     "slide_type": "subslide"
    },
    "tags": []
   },
   "source": [
    "## Performance\n",
    "\n",
    "You can write an ordinary though fast Python code.\n",
    "\n",
    "Consider this strange implementation of Fibonacci numbers calculation."
   ]
  },
  {
   "cell_type": "code",
   "execution_count": 7,
   "id": "4451ae29-f87a-48cd-8fe4-23e253097f3f",
   "metadata": {
    "slideshow": {
     "slide_type": "fragment"
    },
    "tags": []
   },
   "outputs": [],
   "source": [
    "def million_fibonacci(n):\n",
    "    for j in range(1_000_000):\n",
    "        if n < 1:\n",
    "            return 0\n",
    "        elif n == 1:\n",
    "            return 1\n",
    "        x, y = 0, 1\n",
    "        for i in range(n - 1):\n",
    "            x, y = y, x + y\n",
    "    return y"
   ]
  },
  {
   "cell_type": "markdown",
   "id": "785cab5a-f6fa-460d-b835-0beaf854e7e1",
   "metadata": {
    "tags": []
   },
   "source": [
    "It takes several seconds for the 30th number"
   ]
  },
  {
   "cell_type": "code",
   "execution_count": 8,
   "id": "c4ffdf5b-c90f-4912-89c8-4e37e45aed78",
   "metadata": {
    "slideshow": {
     "slide_type": "fragment"
    },
    "tags": []
   },
   "outputs": [
    {
     "name": "stdout",
     "output_type": "stream",
     "text": [
      "The ordinary version running time is 3.1s\n"
     ]
    }
   ],
   "source": [
    "start = time()\n",
    "result = million_fibonacci(30)\n",
    "print(f\"The ordinary version running time is {time() - start:>.2}s\")"
   ]
  },
  {
   "cell_type": "markdown",
   "id": "2bc6c84e-e8d4-440d-a503-da7a5242be59",
   "metadata": {
    "slideshow": {
     "slide_type": "subslide"
    },
    "tags": []
   },
   "source": [
    "Let us decorate it by our powerful JIT!\n",
    "\n",
    "Remember that\n",
    "```python\n",
    "@jit\n",
    "def f():\n",
    "    return\n",
    "```\n",
    "is the same as\n",
    "```python\n",
    "def f():\n",
    "    return\n",
    "f = jit(f)\n",
    "```"
   ]
  },
  {
   "cell_type": "code",
   "execution_count": 9,
   "id": "34a95709-509a-4025-be77-cd932027951f",
   "metadata": {
    "slideshow": {
     "slide_type": "fragment"
    },
    "tags": []
   },
   "outputs": [
    {
     "name": "stdout",
     "output_type": "stream",
     "text": [
      "First time JIT version running time is 0.17s\n"
     ]
    }
   ],
   "source": [
    "million_fibonacci_jit = jit(million_fibonacci)\n",
    "start = time()\n",
    "assert result == million_fibonacci_jit(30)\n",
    "print(f\"First time JIT version running time is {time() - start:>.2}s\")"
   ]
  },
  {
   "cell_type": "markdown",
   "id": "a62d28ca-c620-4baf-ae1c-0dfc83762707",
   "metadata": {
    "slideshow": {
     "slide_type": "subslide"
    },
    "tags": []
   },
   "source": [
    "Maybe one more time?"
   ]
  },
  {
   "cell_type": "code",
   "execution_count": 10,
   "id": "9acb838f-6a4f-41b5-8f56-a5adc7503e74",
   "metadata": {
    "slideshow": {
     "slide_type": "fragment"
    },
    "tags": []
   },
   "outputs": [
    {
     "name": "stdout",
     "output_type": "stream",
     "text": [
      "JIT version running time is 0.017s\n"
     ]
    }
   ],
   "source": [
    "start = time()\n",
    "assert result == million_fibonacci_jit(30)\n",
    "print(f\"JIT version running time is {time() - start:>.2}s\")"
   ]
  },
  {
   "cell_type": "markdown",
   "id": "ac4843c6-a5db-4a36-8122-0e985a7f98fa",
   "metadata": {
    "slideshow": {
     "slide_type": "fragment"
    },
    "tags": []
   },
   "source": [
    "Still don't believe?"
   ]
  },
  {
   "cell_type": "code",
   "execution_count": 11,
   "id": "9a244bf6-7b59-43b0-9612-22c55ebc62ea",
   "metadata": {
    "slideshow": {
     "slide_type": "fragment"
    },
    "tags": []
   },
   "outputs": [
    {
     "name": "stdout",
     "output_type": "stream",
     "text": [
      "JIT version running time is 0.017s\n"
     ]
    }
   ],
   "source": [
    "start = time()\n",
    "assert result == million_fibonacci_jit(30)\n",
    "print(f\"JIT version running time is {time() - start:>.2}s\")"
   ]
  },
  {
   "cell_type": "markdown",
   "id": "43c0a92d-d732-4de5-9e65-d0a842bb53b4",
   "metadata": {
    "slideshow": {
     "slide_type": "subslide"
    },
    "tags": []
   },
   "source": [
    "## Potential type safety"
   ]
  },
  {
   "cell_type": "markdown",
   "id": "386872e1-db23-4076-806c-8517515db363",
   "metadata": {
    "slideshow": {
     "slide_type": "subslide"
    },
    "tags": []
   },
   "source": [
    "We have already seen that `numba` can speed-up your calculations if the function is called multiple times.\n",
    "\n",
    "Can we make it better? Sure, compile it when you create it by specifying types!"
   ]
  },
  {
   "cell_type": "code",
   "execution_count": 12,
   "id": "9b626189-9d55-477f-a413-14348dc2bedd",
   "metadata": {
    "slideshow": {
     "slide_type": "fragment"
    },
    "tags": []
   },
   "outputs": [
    {
     "name": "stdout",
     "output_type": "stream",
     "text": [
      "The function is compiled in 0.14s\n"
     ]
    }
   ],
   "source": [
    "start = time()\n",
    "@jit(\"uint64(uint64)\")\n",
    "def fibonacci(n):\n",
    "    if n < 1:\n",
    "        return 0\n",
    "    elif n == 1:\n",
    "        return 1\n",
    "    return fibonacci(n - 1) + fibonacci(n - 2)\n",
    "print(f\"The function is compiled in {time() - start:>.2}s\")"
   ]
  },
  {
   "cell_type": "code",
   "execution_count": 13,
   "id": "d9505bfd-d891-4adb-8f3b-f28a38cafcce",
   "metadata": {
    "slideshow": {
     "slide_type": "fragment"
    },
    "tags": []
   },
   "outputs": [
    {
     "name": "stdout",
     "output_type": "stream",
     "text": [
      "The first launch time is  0.0077s\n",
      "The second launch time is 0.0077s\n"
     ]
    }
   ],
   "source": [
    "start = time()\n",
    "result = fibonacci(30)\n",
    "print(f\"The first launch time is  {time() - start:>.2}s\")\n",
    "start = time()\n",
    "assert result == fibonacci(30)\n",
    "print(f\"The second launch time is {time() - start:>.2}s\")"
   ]
  },
  {
   "cell_type": "markdown",
   "id": "ba40d0d0-c527-4516-b295-c9bd60873156",
   "metadata": {
    "slideshow": {
     "slide_type": "subslide"
    },
    "tags": []
   },
   "source": [
    "We have seen the \"type\" part but where is the \"safety\"?"
   ]
  },
  {
   "cell_type": "markdown",
   "id": "7aa4bb51-103f-4c38-8419-aa42f4571698",
   "metadata": {
    "slideshow": {
     "slide_type": "fragment"
    },
    "tags": []
   },
   "source": [
    "Here it is. Numba Will not allow you to call this function with arguments that cannot be safely converted to the type you have specified."
   ]
  },
  {
   "cell_type": "code",
   "execution_count": 14,
   "id": "93126fc9-e010-45d2-b59b-7b80165b79ce",
   "metadata": {},
   "outputs": [
    {
     "name": "stdout",
     "output_type": "stream",
     "text": [
      "Ambiguous overloading for <function fibonacci at 0x7f60ec39e8b0> (float64,):\n",
      "(int64,) -> int64\n",
      "(uint64,) -> uint64\n"
     ]
    }
   ],
   "source": [
    "try:\n",
    "    fibonacci(1.0)\n",
    "except TypeError as e:\n",
    "    print(e)"
   ]
  },
  {
   "cell_type": "markdown",
   "id": "0b451f61-f11f-4ee6-8d1b-374551554781",
   "metadata": {
    "slideshow": {
     "slide_type": "slide"
    },
    "tags": []
   },
   "source": [
    "# Combining functions powered by JIT"
   ]
  },
  {
   "cell_type": "markdown",
   "id": "14df7078-2310-4348-8c52-6c5b591f8954",
   "metadata": {
    "slideshow": {
     "slide_type": "subslide"
    },
    "tags": []
   },
   "source": [
    "## JIT and JIT again"
   ]
  },
  {
   "cell_type": "markdown",
   "id": "20353e81-08b8-4ed4-ba67-c60edd569a0a",
   "metadata": {
    "slideshow": {
     "slide_type": "fragment"
    },
    "tags": []
   },
   "source": [
    "All these type checks look good but don't they make the same bad things as ordinary type checks in CPython?\n",
    "\n",
    "You can decrease the number of checks by applying JIT to the hierarchy of called functions."
   ]
  },
  {
   "cell_type": "code",
   "execution_count": 15,
   "id": "0d48b516-7946-4168-b6d6-c05ecef11574",
   "metadata": {
    "slideshow": {
     "slide_type": "fragment"
    },
    "tags": []
   },
   "outputs": [],
   "source": [
    "@jit\n",
    "def g(x):\n",
    "    return million_fibonacci(x) + 1"
   ]
  },
  {
   "cell_type": "code",
   "execution_count": 16,
   "id": "690f83dc-c9f9-448d-9f08-e0b951a299e5",
   "metadata": {
    "slideshow": {
     "slide_type": "subslide"
    },
    "tags": []
   },
   "outputs": [
    {
     "name": "stderr",
     "output_type": "stream",
     "text": [
      "/tmp/ipykernel_5699/2744060948.py:1: NumbaWarning: \u001b[1m\n",
      "Compilation is falling back to object mode WITH looplifting enabled because Function \"g\" failed type inference due to: \u001b[1mUntyped global name 'million_fibonacci':\u001b[0m \u001b[1m\u001b[1mCannot determine Numba type of <class 'function'>\u001b[0m\n",
      "\u001b[1m\n",
      "File \"../../../../tmp/ipykernel_5699/2744060948.py\", line 3:\u001b[0m\n",
      "\u001b[1m<source missing, REPL/exec in use?>\u001b[0m\n",
      "\u001b[0m\u001b[0m\n",
      "  @jit\n",
      "/opt/conda/lib/python3.9/site-packages/numba/core/object_mode_passes.py:151: NumbaWarning: \u001b[1mFunction \"g\" was compiled in object mode without forceobj=True.\n",
      "\u001b[1m\n",
      "File \"../../../../tmp/ipykernel_5699/2744060948.py\", line 1:\u001b[0m\n",
      "\u001b[1m<source missing, REPL/exec in use?>\u001b[0m\n",
      "\u001b[0m\n",
      "  warnings.warn(errors.NumbaWarning(warn_msg,\n",
      "/opt/conda/lib/python3.9/site-packages/numba/core/object_mode_passes.py:161: NumbaDeprecationWarning: \u001b[1m\n",
      "Fall-back from the nopython compilation path to the object mode compilation path has been detected, this is deprecated behaviour.\n",
      "\n",
      "For more information visit https://numba.pydata.org/numba-doc/latest/reference/deprecation.html#deprecation-of-object-mode-fall-back-behaviour-when-using-jit\n",
      "\u001b[1m\n",
      "File \"../../../../tmp/ipykernel_5699/2744060948.py\", line 1:\u001b[0m\n",
      "\u001b[1m<source missing, REPL/exec in use?>\u001b[0m\n",
      "\u001b[0m\n",
      "  warnings.warn(errors.NumbaDeprecationWarning(msg,\n"
     ]
    },
    {
     "name": "stdout",
     "output_type": "stream",
     "text": [
      "The first launch time is  3.9s\n",
      "The second launch time is  5.0s\n"
     ]
    }
   ],
   "source": [
    "start = time()\n",
    "g(30)\n",
    "print(f\"The first launch time is  {time() - start:>.2}s\")\n",
    "start = time()\n",
    "g(30)\n",
    "print(f\"The second launch time is  {time() - start:>.2}s\")"
   ]
  },
  {
   "cell_type": "markdown",
   "id": "77b8d32f-87fc-4b74-8e22-26a4266b0231",
   "metadata": {
    "slideshow": {
     "slide_type": "subslide"
    },
    "tags": []
   },
   "source": [
    "No, `numba` will not modify all the functions for you.\n",
    "\n",
    "It's better to call functions decorated by `@jit` whithin such functions."
   ]
  },
  {
   "cell_type": "code",
   "execution_count": 17,
   "id": "3b616769-4182-49cf-8575-cdaed1f0feb6",
   "metadata": {
    "slideshow": {
     "slide_type": "fragment"
    },
    "tags": []
   },
   "outputs": [],
   "source": [
    "@jit\n",
    "def g(x):\n",
    "    return million_fibonacci_jit(x) + 1"
   ]
  },
  {
   "cell_type": "code",
   "execution_count": 18,
   "id": "aa062c95-f161-4479-87da-9a56e39d6847",
   "metadata": {
    "slideshow": {
     "slide_type": "fragment"
    },
    "tags": []
   },
   "outputs": [
    {
     "name": "stdout",
     "output_type": "stream",
     "text": [
      "The first launch time is  0.11s\n",
      "The second launch time is  0.0084s\n"
     ]
    }
   ],
   "source": [
    "start = time()\n",
    "g(30)\n",
    "print(f\"The first launch time is  {time() - start:>.2}s\")\n",
    "start = time()\n",
    "g(30)\n",
    "print(f\"The second launch time is  {time() - start:>.2}s\")"
   ]
  },
  {
   "cell_type": "markdown",
   "id": "89b764ec-f4e5-4272-a82d-d213da7fc45f",
   "metadata": {
    "slideshow": {
     "slide_type": "subslide"
    },
    "tags": []
   },
   "source": [
    "## Flags\n",
    "\n",
    "Though it doesn't fail.\n",
    "\n",
    "Numba even fails on wrong types but it cannot check whether it can optimize my code?"
   ]
  },
  {
   "cell_type": "markdown",
   "id": "4172d9cf-3ef3-434f-9fee-4ea3a574d51d",
   "metadata": {
    "slideshow": {
     "slide_type": "fragment"
    },
    "tags": []
   },
   "source": [
    "It can. Use `nopython=True`."
   ]
  },
  {
   "cell_type": "code",
   "execution_count": 19,
   "id": "f6d0d89d-199d-4555-aa54-f6c6a8d49f65",
   "metadata": {
    "slideshow": {
     "slide_type": "fragment"
    },
    "tags": []
   },
   "outputs": [],
   "source": [
    "@jit(nopython=True)\n",
    "def g(x):\n",
    "    return million_fibonacci(x) + 1"
   ]
  },
  {
   "cell_type": "code",
   "execution_count": 20,
   "id": "a191caa3-e428-4e0d-8b1c-c42369c94d1b",
   "metadata": {
    "slideshow": {
     "slide_type": "fragment"
    },
    "tags": []
   },
   "outputs": [
    {
     "name": "stdout",
     "output_type": "stream",
     "text": [
      "Failed in nopython mode pipeline (step: nopython frontend)\n",
      "\u001b[1mUntyped global name 'million_fibonacci':\u001b[0m \u001b[1m\u001b[1mCannot determine Numba type of <class 'function'>\u001b[0m\n",
      "\u001b[1m\n",
      "File \"../../../../tmp/ipykernel_5699/2017834750.py\", line 3:\u001b[0m\n",
      "\u001b[1m<source missing, REPL/exec in use?>\u001b[0m\n",
      "\u001b[0m\n"
     ]
    }
   ],
   "source": [
    "try:\n",
    "    g(30)\n",
    "except TypingError as e:\n",
    "    print(e)"
   ]
  },
  {
   "cell_type": "markdown",
   "id": "0889312e-79b2-4e0e-834b-856e131b4704",
   "metadata": {
    "slideshow": {
     "slide_type": "subslide"
    },
    "tags": []
   },
   "source": [
    "Want more?"
   ]
  },
  {
   "cell_type": "markdown",
   "id": "5d6f82dd-9954-4f8d-bfd5-804fc269a1f4",
   "metadata": {
    "slideshow": {
     "slide_type": "fragment"
    },
    "tags": []
   },
   "source": [
    "You can use `njit` as an alias to `jit(nopython=True)`."
   ]
  },
  {
   "cell_type": "markdown",
   "id": "5c2e7ee6-e970-4448-a4a5-895d277442c7",
   "metadata": {
    "slideshow": {
     "slide_type": "fragment"
    },
    "tags": []
   },
   "source": [
    "You can disable [GIL](https://wiki.python.org/moin/GlobalInterpreterLock) with `nogil=True`.\n",
    "This will cause problems if you want to stop your function with `Ctrl+C` in Linux terminal."
   ]
  },
  {
   "cell_type": "markdown",
   "id": "19335d01-c349-4ebf-b468-3c17085f08a1",
   "metadata": {
    "slideshow": {
     "slide_type": "fragment"
    },
    "tags": []
   },
   "source": [
    "You can even use `cache=True` to compile your function once and use it every time you launch your code again!\n",
    "Just like AOT."
   ]
  },
  {
   "cell_type": "code",
   "execution_count": 21,
   "id": "8f5f360e-7b67-429e-8c15-fbae5e02b60e",
   "metadata": {
    "slideshow": {
     "slide_type": "subslide"
    },
    "tags": []
   },
   "outputs": [
    {
     "name": "stdout",
     "output_type": "stream",
     "text": [
      "The function is compiled in 0.23s\n"
     ]
    }
   ],
   "source": [
    "start = time()\n",
    "@njit(\"uint64(uint64)\", nogil=True)\n",
    "def nfibonacci(n):\n",
    "    if n < 1:\n",
    "        return 0\n",
    "    elif n == 1:\n",
    "        return 1\n",
    "    return nfibonacci(n - 1) + nfibonacci(n - 2)\n",
    "print(f\"The function is compiled in {time() - start:>.2}s\")"
   ]
  },
  {
   "cell_type": "code",
   "execution_count": 22,
   "id": "0e2a6cab-6f1a-4590-86e3-813093ec9675",
   "metadata": {
    "slideshow": {
     "slide_type": "fragment"
    },
    "tags": []
   },
   "outputs": [
    {
     "name": "stdout",
     "output_type": "stream",
     "text": [
      "An ordinary `@jit` work time is     0.012s\n",
      "Work time with `@njit` and flags is 0.013s\n"
     ]
    }
   ],
   "source": [
    "start = time()\n",
    "fibonacci(30)\n",
    "print(f\"An ordinary `@jit` work time is     {time() - start:>.2}s\")\n",
    "start = time()\n",
    "nfibonacci(30)\n",
    "print(f\"Work time with `@njit` and flags is {time() - start:>.2}s\")"
   ]
  },
  {
   "cell_type": "markdown",
   "id": "68b55d2f-92e9-4518-886c-3bb1f69dd2bb",
   "metadata": {
    "slideshow": {
     "slide_type": "fragment"
    },
    "tags": []
   },
   "source": [
    "The difference is negligible in this example but `@njit` can watch what you use to avoid sad mistakes."
   ]
  },
  {
   "cell_type": "markdown",
   "id": "ce42b58e-222c-40c7-9948-c491217f8ff8",
   "metadata": {
    "slideshow": {
     "slide_type": "subslide"
    },
    "tags": []
   },
   "source": [
    "Let us look at some mistakes you can make with `nopython=False` (the default behavior of `@jit`)."
   ]
  },
  {
   "cell_type": "code",
   "execution_count": 23,
   "id": "4aee0d35-7edd-48ab-93b7-1e7cb2238012",
   "metadata": {
    "slideshow": {
     "slide_type": "subslide"
    },
    "tags": []
   },
   "outputs": [],
   "source": [
    "@jit\n",
    "def jit_sum(x):\n",
    "    accumulator = 0\n",
    "    for element in x:\n",
    "        accumulator += element\n",
    "    return accumulator"
   ]
  },
  {
   "cell_type": "markdown",
   "id": "753146ab-8c93-466b-8196-1dda041df5fa",
   "metadata": {
    "slideshow": {
     "slide_type": "fragment"
    },
    "tags": []
   },
   "source": [
    "What if I use `list`? Remember that a list is not an array in general case; and lists in Python may contain data of different types.\n",
    "If there was a way to perform all those checks on them more efficiently, CPython would definitely perform them."
   ]
  },
  {
   "cell_type": "code",
   "execution_count": 24,
   "id": "45ae9979-a620-4409-aefa-160f4b9f5bb6",
   "metadata": {
    "slideshow": {
     "slide_type": "fragment"
    },
    "tags": []
   },
   "outputs": [
    {
     "name": "stdout",
     "output_type": "stream",
     "text": [
      "6\n"
     ]
    },
    {
     "name": "stderr",
     "output_type": "stream",
     "text": [
      "/opt/conda/lib/python3.9/site-packages/numba/core/ir_utils.py:2139: NumbaPendingDeprecationWarning: \u001b[1m\n",
      "Encountered the use of a type that is scheduled for deprecation: type 'reflected list' found for argument 'x' of function 'jit_sum'.\n",
      "\n",
      "For more information visit https://numba.pydata.org/numba-doc/latest/reference/deprecation.html#deprecation-of-reflection-for-list-and-set-types\n",
      "\u001b[1m\n",
      "File \"../../../../tmp/ipykernel_5699/496693149.py\", line 1:\u001b[0m\n",
      "\u001b[1m<source missing, REPL/exec in use?>\u001b[0m\n",
      "\u001b[0m\n",
      "  warnings.warn(NumbaPendingDeprecationWarning(msg, loc=loc))\n"
     ]
    }
   ],
   "source": [
    "print(jit_sum([1, 2, 3]))"
   ]
  },
  {
   "cell_type": "code",
   "execution_count": 25,
   "id": "a08ba19e-b1cf-4c92-843f-e764de246a18",
   "metadata": {
    "slideshow": {
     "slide_type": "subslide"
    },
    "tags": []
   },
   "outputs": [],
   "source": [
    "@jit\n",
    "def jit_dict(x):\n",
    "    for key, value in x.items():\n",
    "        if key == \"name\":\n",
    "            return value\n",
    "    return \"\""
   ]
  },
  {
   "cell_type": "markdown",
   "id": "9885bd69-c993-447b-86ff-8bb1f377d467",
   "metadata": {
    "slideshow": {
     "slide_type": "fragment"
    },
    "tags": []
   },
   "source": [
    "What's wrong with `dict`? The same thing as with `list`."
   ]
  },
  {
   "cell_type": "code",
   "execution_count": 26,
   "id": "5376cb72-b463-4287-8963-b92eca8fa88d",
   "metadata": {
    "slideshow": {
     "slide_type": "fragment"
    },
    "tags": []
   },
   "outputs": [
    {
     "name": "stderr",
     "output_type": "stream",
     "text": [
      "/tmp/ipykernel_5699/3057356901.py:1: NumbaWarning: \u001b[1m\n",
      "Compilation is falling back to object mode WITH looplifting enabled because Function \"jit_dict\" failed type inference due to: \u001b[1m\u001b[1mnon-precise type pyobject\u001b[0m\n",
      "\u001b[0m\u001b[1mDuring: typing of argument at /tmp/ipykernel_5699/3057356901.py (3)\u001b[0m\n",
      "\u001b[1m\n",
      "File \"../../../../tmp/ipykernel_5699/3057356901.py\", line 3:\u001b[0m\n",
      "\u001b[1m<source missing, REPL/exec in use?>\u001b[0m\n",
      "\u001b[0m\n",
      "  @jit\n"
     ]
    },
    {
     "name": "stdout",
     "output_type": "stream",
     "text": [
      "John\n"
     ]
    },
    {
     "name": "stderr",
     "output_type": "stream",
     "text": [
      "/opt/conda/lib/python3.9/site-packages/numba/core/object_mode_passes.py:151: NumbaWarning: \u001b[1mFunction \"jit_dict\" was compiled in object mode without forceobj=True.\n",
      "\u001b[1m\n",
      "File \"../../../../tmp/ipykernel_5699/3057356901.py\", line 1:\u001b[0m\n",
      "\u001b[1m<source missing, REPL/exec in use?>\u001b[0m\n",
      "\u001b[0m\n",
      "  warnings.warn(errors.NumbaWarning(warn_msg,\n",
      "/opt/conda/lib/python3.9/site-packages/numba/core/object_mode_passes.py:161: NumbaDeprecationWarning: \u001b[1m\n",
      "Fall-back from the nopython compilation path to the object mode compilation path has been detected, this is deprecated behaviour.\n",
      "\n",
      "For more information visit https://numba.pydata.org/numba-doc/latest/reference/deprecation.html#deprecation-of-object-mode-fall-back-behaviour-when-using-jit\n",
      "\u001b[1m\n",
      "File \"../../../../tmp/ipykernel_5699/3057356901.py\", line 1:\u001b[0m\n",
      "\u001b[1m<source missing, REPL/exec in use?>\u001b[0m\n",
      "\u001b[0m\n",
      "  warnings.warn(errors.NumbaDeprecationWarning(msg,\n"
     ]
    }
   ],
   "source": [
    "print(jit_dict({\"name\": \"John\"}))"
   ]
  },
  {
   "cell_type": "markdown",
   "id": "807f0ccf-5f29-4e37-98e4-0cd399e05127",
   "metadata": {
    "slideshow": {
     "slide_type": "subslide"
    },
    "tags": []
   },
   "source": [
    "What should we do?"
   ]
  },
  {
   "cell_type": "markdown",
   "id": "29e6ef5c-20ea-4ce8-9aba-80b72ff34f82",
   "metadata": {
    "slideshow": {
     "slide_type": "fragment"
    },
    "tags": []
   },
   "source": [
    "Use `numpy`!"
   ]
  },
  {
   "cell_type": "markdown",
   "id": "6d32a88c-45f9-4d30-98ff-4e708330cf0b",
   "metadata": {
    "slideshow": {
     "slide_type": "fragment"
    },
    "tags": []
   },
   "source": [
    "But how to avoid all those cases?Use `@njit`!"
   ]
  },
  {
   "cell_type": "markdown",
   "id": "a6949679-56f6-427f-b7c4-3bcb47257c02",
   "metadata": {
    "slideshow": {
     "slide_type": "fragment"
    },
    "tags": []
   },
   "source": [
    "Use `@njit`!"
   ]
  },
  {
   "cell_type": "markdown",
   "id": "69402cf8-666c-4be0-98b2-c3e9f02415e9",
   "metadata": {
    "slideshow": {
     "slide_type": "fragment"
    },
    "tags": []
   },
   "source": [
    "Won't it check something only on call?"
   ]
  },
  {
   "cell_type": "markdown",
   "id": "964a85ba-bd98-4893-9605-738ed3c97cd5",
   "metadata": {
    "slideshow": {
     "slide_type": "fragment"
    },
    "tags": []
   },
   "source": [
    "Set the function signature to save some time."
   ]
  },
  {
   "cell_type": "code",
   "execution_count": 27,
   "id": "c0f58638-f4f9-4f23-91f1-d4062aa458c7",
   "metadata": {
    "slideshow": {
     "slide_type": "fragment"
    },
    "tags": []
   },
   "outputs": [],
   "source": [
    "@njit(\"int64(int64[:])\")\n",
    "def njit_sum(x):\n",
    "    accumulator = 0\n",
    "    for element in x:\n",
    "        accumulator += element\n",
    "    return accumulator"
   ]
  },
  {
   "cell_type": "code",
   "execution_count": 28,
   "id": "36818eb5-a206-4d51-a587-fcfebabebcb0",
   "metadata": {
    "slideshow": {
     "slide_type": "fragment"
    },
    "tags": []
   },
   "outputs": [
    {
     "data": {
      "text/plain": [
       "6"
      ]
     },
     "execution_count": 28,
     "metadata": {},
     "output_type": "execute_result"
    }
   ],
   "source": [
    "njit_sum(array([1, 2, 3]))"
   ]
  },
  {
   "cell_type": "markdown",
   "id": "39fd7326-76e0-44ae-8261-eb40115e70dd",
   "metadata": {
    "slideshow": {
     "slide_type": "subslide"
    },
    "tags": []
   },
   "source": [
    "What is `int64[:]`?\n",
    "\n",
    "We will watch the next slide show about it.\n",
    "It is a type for a one-dimensional array of `int64` entities.\n",
    "You can see the same syntax in [Cython](https://cython.org/)'s\n",
    "[Working with Python arrays](https://cython.readthedocs.io/en/latest/src/tutorial/array.html) and\n",
    "[Typed Memoryviews](https://cython.readthedocs.io/en/latest/src/userguide/memoryviews.html)."
   ]
  },
  {
   "cell_type": "markdown",
   "id": "994b34f7-c057-4f24-9442-402c077e3b45",
   "metadata": {
    "slideshow": {
     "slide_type": "slide"
    },
    "tags": []
   },
   "source": [
    "# What's next?"
   ]
  },
  {
   "cell_type": "markdown",
   "id": "6f7c0632-5fe4-4b01-b9e1-0d4fd39b757f",
   "metadata": {
    "slideshow": {
     "slide_type": "fragment"
    },
    "tags": []
   },
   "source": [
    "- [Supported NumPy features](https://numba.pydata.org/numba-doc/dev/reference/numpysupported.html) to know how to use `numba` with your `numpy`-powered code."
   ]
  },
  {
   "cell_type": "markdown",
   "id": "d12e7b95-98f4-42c5-8a32-ed8ff008127a",
   "metadata": {
    "slideshow": {
     "slide_type": "fragment"
    },
    "tags": []
   },
   "source": [
    "- [Automatic module jitting with `jit_module`](https://numba.pydata.org/numba-doc/latest/user/jit-module.html) if you want not to decorate each function separately but to make the entire module work faster."
   ]
  },
  {
   "cell_type": "markdown",
   "id": "c20f1f3e-dbb5-4086-b0e8-e3756f54ed32",
   "metadata": {
    "slideshow": {
     "slide_type": "fragment"
    },
    "tags": []
   },
   "source": [
    "- [Compiling Python classes with `@jitclass`](https://numba.pydata.org/numba-doc/dev/user/jitclass.html) if you want to speed-up entire class."
   ]
  },
  {
   "cell_type": "markdown",
   "id": "56d18b9e-6988-4798-bae5-8931d72a0e00",
   "metadata": {
    "slideshow": {
     "slide_type": "fragment"
    },
    "tags": []
   },
   "source": [
    "- [Compiling code ahead of time (AOT)](https://numba.pydata.org/numba-doc/dev/user/pycc.html) if you don't want to wait for the compilation each time you launch your application and/or if you want to **hide** your code: this will produce a separate shared library that can be simply `import`-ed and used in your software like an ordinary Python module. Also, read **Limitations** section before using it. Read the documentation before using it. You've been warned."
   ]
  },
  {
   "cell_type": "markdown",
   "id": "b20b05ef-fb1c-4a51-ad3a-0a23d46d8176",
   "metadata": {
    "slideshow": {
     "slide_type": "fragment"
    },
    "tags": []
   },
   "source": [
    "**DISCLAIMER**: I'm **NOT SURE** how obfuscated the result of numba's AOT is, so don't think that it will be irreversibly compiled."
   ]
  }
 ],
 "metadata": {
  "kernelspec": {
   "display_name": "Python 3 (ipykernel)",
   "language": "python",
   "name": "python3"
  },
  "language_info": {
   "codemirror_mode": {
    "name": "ipython",
    "version": 3
   },
   "file_extension": ".py",
   "mimetype": "text/x-python",
   "name": "python",
   "nbconvert_exporter": "python",
   "pygments_lexer": "ipython3",
   "version": "3.9.7"
  }
 },
 "nbformat": 4,
 "nbformat_minor": 5
}
