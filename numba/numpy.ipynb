{
 "cells": [
  {
   "cell_type": "markdown",
   "id": "96d71f4c-2e9b-4384-ab9a-35a67538c43c",
   "metadata": {
    "slideshow": {
     "slide_type": "slide"
    },
    "tags": []
   },
   "source": [
    "# NumPy + Numba"
   ]
  },
  {
   "cell_type": "code",
   "execution_count": 1,
   "id": "b3b9ffe4-3d11-4a31-a820-9c2541087bc8",
   "metadata": {
    "slideshow": {
     "slide_type": "fragment"
    },
    "tags": []
   },
   "outputs": [
    {
     "name": "stdout",
     "output_type": "stream",
     "text": [
      "NumPy version of this slideshow is 1.20.3\n",
      "numba version of this slideshow is 0.54.1\n"
     ]
    }
   ],
   "source": [
    "from numba import (\n",
    "    __version__ as numba_version,\n",
    "    njit,\n",
    "    TypingError,\n",
    ")\n",
    "from numpy import (\n",
    "    __version__ as numpy_version,\n",
    "    absolute,\n",
    "    ascontiguousarray,\n",
    "    asfortranarray,\n",
    "    argmin,\n",
    "    array,\n",
    "    empty,\n",
    "    inf,\n",
    "    zeros,\n",
    ")\n",
    "from numpy.linalg import multi_dot\n",
    "from numpy.random import random\n",
    "from time import time\n",
    "\n",
    "print(\"NumPy version of this slideshow is\", numpy_version)\n",
    "print(\"numba version of this slideshow is\", numba_version)"
   ]
  },
  {
   "cell_type": "markdown",
   "id": "8459272f-bcb8-4942-8dfb-7283e921d8e0",
   "metadata": {
    "slideshow": {
     "slide_type": "slide"
    },
    "tags": []
   },
   "source": [
    "Should I use `numpy` if I have C and Fortran? Nothing can be faster than these guys."
   ]
  },
  {
   "cell_type": "markdown",
   "id": "44566785-8fcc-4142-8081-90508b39cd6c",
   "metadata": {
    "slideshow": {
     "slide_type": "fragment"
    },
    "tags": []
   },
   "source": [
    "Because `numpy` uses [AVX512](https://github.com/numpy/numpy/blob/85df388d344f4ebd70921dca0bc723770e05a37b/numpy/core/src/common/simd/avx512/arithmetic.h#L160..L171) when it is supported by your computer.\n",
    "\n",
    "There is even a file called [simd.inc.src](https://github.com/numpy/numpy/blob/main/numpy/core/src/umath/simd.inc.src#L756) with different SIMD tricks.\n",
    "\n",
    "You should spend a lot of time to outperform [numpy.dot](https://github.com/numpy/numpy/blob/de06954b19a6c0980d48e4397adabfd15d808660/numpy/core/src/common/cblasfuncs.c#L208..L700) by hand because it uses [BLAS](https://www.netlib.org/blas/)."
   ]
  },
  {
   "cell_type": "markdown",
   "id": "1befd801-1678-4f2f-8ed6-201ef9ae05ad",
   "metadata": {
    "slideshow": {
     "slide_type": "slide"
    },
    "tags": []
   },
   "source": [
    "Should I use `numba` if I already have a highly optimized `numpy`?"
   ]
  },
  {
   "cell_type": "markdown",
   "id": "68dbe783-bee2-447d-ac92-acd161b84176",
   "metadata": {
    "slideshow": {
     "slide_type": "fragment"
    },
    "tags": []
   },
   "source": [
    "First, make sure that you use `numpy` properly.\n",
    "Consider the following example."
   ]
  },
  {
   "cell_type": "code",
   "execution_count": 2,
   "id": "6e5c227a-3427-4d6e-a0ee-2b2a57008e96",
   "metadata": {
    "slideshow": {
     "slide_type": "fragment"
    },
    "tags": []
   },
   "outputs": [
    {
     "name": "stdout",
     "output_type": "stream",
     "text": [
      "Matrices multiplication took 1.0s\n",
      "`numpy.multi_dot` took       0.46s\n"
     ]
    }
   ],
   "source": [
    "a = random((1_000, 1_000))\n",
    "b = random((1_000, 20_000))\n",
    "c = random((20_000, 1_000))\n",
    "start = time()\n",
    "result = (a @ b) @ c\n",
    "print(f\"Matrices multiplication took {time() - start:>.2}s\")\n",
    "start = time()\n",
    "result = multi_dot((a, b, c))\n",
    "print(f\"`numpy.multi_dot` took       {time() - start:>.2}s\")\n",
    "\n",
    "del result"
   ]
  },
  {
   "cell_type": "markdown",
   "id": "33577195-968d-4f1d-ae53-f2615584d183",
   "metadata": {
    "slideshow": {
     "slide_type": "subslide"
    },
    "tags": []
   },
   "source": [
    "Can it be even faster?"
   ]
  },
  {
   "cell_type": "markdown",
   "id": "e61ead50-07bd-4009-acc4-797d9ccc52d7",
   "metadata": {
    "slideshow": {
     "slide_type": "fragment"
    },
    "tags": []
   },
   "source": [
    "In theory, yes.\n",
    "At least, you can avoid consumation of additional memory for repeated operations."
   ]
  },
  {
   "cell_type": "code",
   "execution_count": 3,
   "id": "ef042621-f1a8-4842-b452-c06302a53308",
   "metadata": {
    "slideshow": {
     "slide_type": "fragment"
    },
    "tags": []
   },
   "outputs": [
    {
     "name": "stdout",
     "output_type": "stream",
     "text": [
      "`numpy.multi_dot` with `out` took 0.49s\n"
     ]
    }
   ],
   "source": [
    "start = time()\n",
    "result = empty((a.shape[0], c.shape[1]), a.dtype)\n",
    "start = time()\n",
    "result = multi_dot((a, b, c), out=result)\n",
    "print(f\"`numpy.multi_dot` with `out` took {time() - start:>.2}s\")\n",
    "\n",
    "del result"
   ]
  },
  {
   "cell_type": "markdown",
   "id": "1861bd19-6406-411d-b1af-51fad9a490f6",
   "metadata": {
    "slideshow": {
     "slide_type": "subslide"
    },
    "tags": []
   },
   "source": [
    "## Can `numba` help us here?"
   ]
  },
  {
   "cell_type": "code",
   "execution_count": 4,
   "id": "bb163fe6-d06b-4607-8dc6-0ed21b224738",
   "metadata": {
    "slideshow": {
     "slide_type": "fragment"
    },
    "tags": []
   },
   "outputs": [
    {
     "name": "stdout",
     "output_type": "stream",
     "text": [
      "Failed in nopython mode pipeline (step: nopython frontend)\n",
      "\u001b[1mUntyped global name 'multi_dot':\u001b[0m \u001b[1m\u001b[1mCannot determine Numba type of <class 'function'>\u001b[0m\n",
      "\u001b[1m\n",
      "File \"../../../../tmp/ipykernel_1099/1606011171.py\", line 3:\u001b[0m\n",
      "\u001b[1m<source missing, REPL/exec in use?>\u001b[0m\n",
      "\u001b[0m\n"
     ]
    }
   ],
   "source": [
    "@njit\n",
    "def jit_multi_dot(x, y, z):\n",
    "    return multi_dot((a, b, c))\n",
    "\n",
    "try:\n",
    "    jit_multi_dot(a, b, c)\n",
    "except TypingError as e:\n",
    "    print(e)\n",
    "\n",
    "del a\n",
    "del b\n",
    "del c"
   ]
  },
  {
   "cell_type": "markdown",
   "id": "43c670df-dc9d-4529-b8ac-f65ea084d6a4",
   "metadata": {
    "slideshow": {
     "slide_type": "fragment"
    },
    "tags": []
   },
   "source": [
    "Not all `numpy` abilities are supported.\n",
    "See [Supported NumPy features](https://numba.pydata.org/numba-doc/dev/reference/numpysupported.html) for more details."
   ]
  },
  {
   "cell_type": "markdown",
   "id": "f65eb6df-4b53-464c-bda3-11249f694827",
   "metadata": {
    "slideshow": {
     "slide_type": "subslide"
    },
    "tags": []
   },
   "source": [
    "## Which features are also not supported?"
   ]
  },
  {
   "cell_type": "markdown",
   "id": "b4171edb-4efb-40db-b7cf-5e4772d6e9db",
   "metadata": {
    "slideshow": {
     "slide_type": "fragment"
    },
    "tags": []
   },
   "source": [
    "One of the most painful losses here is an `axis` parameter"
   ]
  },
  {
   "cell_type": "code",
   "execution_count": 5,
   "id": "c678d6a1-419f-4724-98e8-6a1b966c2567",
   "metadata": {},
   "outputs": [
    {
     "name": "stdout",
     "output_type": "stream",
     "text": [
      "Failed in nopython mode pipeline (step: nopython frontend)\n",
      "\u001b[1m\u001b[1m\u001b[1m\u001b[1m- Resolution failure for literal arguments:\n",
      "\u001b[1mAssertionError()\u001b[0m\n",
      "\u001b[0m\u001b[1m- Resolution failure for non-literal arguments:\n",
      "\u001b[1mAssertionError()\u001b[0m\n",
      "\u001b[0m\u001b[0m\n",
      "\u001b[0m\u001b[1mDuring: resolving callee type: BoundFunction(array.min for array(int64, 2d, C))\u001b[0m\n",
      "\u001b[0m\u001b[1mDuring: typing o...\n"
     ]
    }
   ],
   "source": [
    "@njit\n",
    "def jit_min(x):\n",
    "    return x.min(axis=0)\n",
    "\n",
    "try:\n",
    "    print(jit_min(array([ [1, 2], [3, 4] ])))\n",
    "except TypingError as e:\n",
    "    print(f\"{str(e)[:350]}...\")"
   ]
  },
  {
   "cell_type": "markdown",
   "id": "a06c44b5-7ff6-4949-95c9-824ed0dac87c",
   "metadata": {
    "slideshow": {
     "slide_type": "subslide"
    },
    "tags": []
   },
   "source": [
    "This is my favorite feature.\n",
    "It gives half of my code performance.\n",
    "\n",
    "Again. Why should I use `numba`?"
   ]
  },
  {
   "cell_type": "markdown",
   "id": "12794f93-d1d2-446b-976d-04af05982c5f",
   "metadata": {
    "slideshow": {
     "slide_type": "fragment"
    },
    "tags": []
   },
   "source": [
    "Consider a problem of finding an index of a minimal element in big array"
   ]
  },
  {
   "cell_type": "code",
   "execution_count": 6,
   "id": "127ff92e-3a2a-4b2e-bc39-15fd77905eee",
   "metadata": {},
   "outputs": [
    {
     "name": "stdout",
     "output_type": "stream",
     "text": [
      "`numpy.argmin` took             0.063s\n",
      "JIT-powered `argmin` took       0.24s\n"
     ]
    }
   ],
   "source": [
    "@njit(nogil=True)\n",
    "def jit_argmin(x):\n",
    "    index, result = 0, x[0]\n",
    "    for i in range(1, x.size):\n",
    "        if x[i] < result:\n",
    "            index, result = i, x[i]\n",
    "    return index\n",
    "\n",
    "a = random(100_000_000)\n",
    "\n",
    "start = time()\n",
    "index = argmin(a)\n",
    "print(f\"`numpy.argmin` took             {time() - start:>.2}s\")\n",
    "\n",
    "start = time()\n",
    "index = jit_argmin(a)\n",
    "print(f\"JIT-powered `argmin` took       {time() - start:>.2}s\")\n",
    "\n",
    "del a"
   ]
  },
  {
   "cell_type": "markdown",
   "id": "d351e53f-c0d7-4fa9-8741-35e792f25622",
   "metadata": {
    "slideshow": {
     "slide_type": "subslide"
    },
    "tags": []
   },
   "source": [
    "Imagine a situation when you have a big array and do not want to (or simply can not) consume more RAM nor modify it."
   ]
  },
  {
   "cell_type": "code",
   "execution_count": 7,
   "id": "62153018-a2bd-4720-8129-df3ee6a42121",
   "metadata": {
    "slideshow": {
     "slide_type": "fragment"
    },
    "tags": []
   },
   "outputs": [
    {
     "name": "stdout",
     "output_type": "stream",
     "text": [
      "`numpy.argmin` took                  5.0s\n",
      "JIT preprocessor allows to make it   3.1s\n",
      "JIT `argmin` deals with it in        2.7s\n"
     ]
    }
   ],
   "source": [
    "def preprocessor(x):\n",
    "    return x ** 3 + absolute(x) ** -1.5\n",
    "\n",
    "jit_preprocessor = njit(nogil=True)(preprocessor)\n",
    "\n",
    "@njit(nogil=True)\n",
    "def jit_argmin(x):\n",
    "    index, result = 0, jit_preprocessor(x[0])\n",
    "    for i in range(1, x.size):\n",
    "        element = jit_preprocessor(x[i])\n",
    "        if element < result:\n",
    "            index, result = i, element\n",
    "    return index\n",
    "\n",
    "a = random(100_000_000)\n",
    "\n",
    "start = time()\n",
    "index = argmin(preprocessor(a))\n",
    "print(f\"`numpy.argmin` took                  {time() - start:>.2}s\")\n",
    "\n",
    "start = time()\n",
    "index = argmin(jit_preprocessor(a))\n",
    "print(f\"JIT preprocessor allows to make it   {time() - start:>.2}s\")\n",
    "\n",
    "start = time()\n",
    "index = jit_argmin(a)\n",
    "print(f\"JIT `argmin` deals with it in        {time() - start:>.2}s\")\n",
    "\n",
    "del a"
   ]
  },
  {
   "cell_type": "markdown",
   "id": "08031981-1685-433c-85f8-64c79c63ddf9",
   "metadata": {
    "slideshow": {
     "slide_type": "subslide"
    },
    "tags": []
   },
   "source": [
    "That's why `numpy` function have `out` parameter: `numpy.log`, `numpy.absolute`, `numpy.pow`, etc.\n",
    "Though, you still have to use additional memory for this `out` if you don't want to modify your source array."
   ]
  },
  {
   "cell_type": "markdown",
   "id": "a90b9c1e-2a34-403f-a20e-6c00edf98a3f",
   "metadata": {
    "slideshow": {
     "slide_type": "slide"
    },
    "tags": []
   },
   "source": [
    "# Creating an array"
   ]
  },
  {
   "cell_type": "markdown",
   "id": "06224a8e-e46f-4cd4-8b3c-085c190b9677",
   "metadata": {
    "slideshow": {
     "slide_type": "subslide"
    },
    "tags": []
   },
   "source": [
    "Remember that you cannot use Python types in `nopython=True` mode"
   ]
  },
  {
   "cell_type": "code",
   "execution_count": 8,
   "id": "75b60677-0f5f-46ff-bec9-e85245cfe9bb",
   "metadata": {
    "slideshow": {
     "slide_type": "fragment"
    },
    "tags": []
   },
   "outputs": [
    {
     "name": "stdout",
     "output_type": "stream",
     "text": [
      "Failed in nopython mode pipeline (step: nopython frontend)\n",
      "\u001b[1m\u001b[1m\u001b[1mNo implementation of function Function(<built-in function zeros>) found for signature:\n",
      " \n",
      " >>> zeros(UniTuple(Literal[int](3) x 1), dtype=Function(<class 'float'>))\n",
      " \n",
      "There are 4 candidate implementations:\n",
      "\u001b[1m  - Of which 2 did not match due to:\n",
      "  Overload in function '_OverloadWrapper._build.<locals>.ol_generated': File: numba/core/overload_glue.py: Line 131.\n",
      "    With argument(s): '(UniTuple(int64 x 1), dtype=Function(<class 'float'>))':\u001b[0m\n",
      "\u001b[1m   Rejected as the implement...\n"
     ]
    }
   ],
   "source": [
    "@njit(nogil=True)\n",
    "def f(i):\n",
    "    temporary_array = zeros((3,), dtype=float)\n",
    "    return temporary_array[i]\n",
    "\n",
    "try:\n",
    "    f(0)\n",
    "except TypingError as e:\n",
    "    print(f\"{str(e)[:550]}...\")"
   ]
  },
  {
   "cell_type": "markdown",
   "id": "0a0ee66f-1693-4743-9bce-f474d129658c",
   "metadata": {
    "slideshow": {
     "slide_type": "subslide"
    },
    "tags": []
   },
   "source": [
    "You should use special types from `numba`"
   ]
  },
  {
   "cell_type": "code",
   "execution_count": 9,
   "id": "a78091ae-1d0a-4140-bf30-f2d5708b33bd",
   "metadata": {
    "slideshow": {
     "slide_type": "fragment"
    },
    "tags": []
   },
   "outputs": [
    {
     "name": "stdout",
     "output_type": "stream",
     "text": [
      "0.0\n"
     ]
    }
   ],
   "source": [
    "from numba import float64\n",
    "\n",
    "@njit(nogil=True)\n",
    "def f(i):\n",
    "    temporary_array = zeros((3,), dtype=float64)\n",
    "    return temporary_array[i]\n",
    "\n",
    "print(f(0))"
   ]
  },
  {
   "cell_type": "code",
   "execution_count": 10,
   "id": "2b1d90b7-fa58-4b9b-ba19-73d4cb24970f",
   "metadata": {
    "slideshow": {
     "slide_type": "fragment"
    },
    "tags": []
   },
   "outputs": [
    {
     "name": "stdout",
     "output_type": "stream",
     "text": [
      "0.0\n"
     ]
    }
   ],
   "source": [
    "from numba import f8\n",
    "\n",
    "@njit(nogil=True)\n",
    "def f(i):\n",
    "    temporary_array = zeros((3,), dtype=f8)\n",
    "    return temporary_array[i]\n",
    "\n",
    "print(f(0))"
   ]
  },
  {
   "cell_type": "markdown",
   "id": "e4bd8d21-da7b-43e1-a127-a5d24159504f",
   "metadata": {
    "slideshow": {
     "slide_type": "subslide"
    },
    "tags": []
   },
   "source": [
    "or `numpy`"
   ]
  },
  {
   "cell_type": "code",
   "execution_count": 11,
   "id": "457a06a4-057b-45b4-81a3-32d7d41accd3",
   "metadata": {
    "slideshow": {
     "slide_type": "fragment"
    },
    "tags": []
   },
   "outputs": [
    {
     "name": "stdout",
     "output_type": "stream",
     "text": [
      "0.0\n"
     ]
    }
   ],
   "source": [
    "from numpy import float64\n",
    "\n",
    "@njit(nogil=True)\n",
    "def f(i):\n",
    "    temporary_array = zeros((3,), dtype=float64)\n",
    "    return temporary_array[i]\n",
    "\n",
    "print(f(0))"
   ]
  },
  {
   "cell_type": "markdown",
   "id": "aef80720-81fe-4869-800a-ec84b7218fef",
   "metadata": {
    "slideshow": {
     "slide_type": "subslide"
    },
    "tags": []
   },
   "source": [
    "## Personal recommendation\n",
    "\n",
    "Usually, you use `numba` for repeated operations called in loops.\n",
    "\n",
    "Think twice before creating an array.\n",
    "Maybe you simply need to provide it as an `out` argument."
   ]
  },
  {
   "cell_type": "markdown",
   "id": "0724ca9b-e6c7-411d-9a91-fbd9a0307c4d",
   "metadata": {
    "slideshow": {
     "slide_type": "fragment"
    },
    "tags": []
   },
   "source": [
    "For example"
   ]
  },
  {
   "cell_type": "code",
   "execution_count": 12,
   "id": "eb50062c-ec7a-4d7b-979d-10250410c6f1",
   "metadata": {
    "slideshow": {
     "slide_type": "fragment"
    },
    "tags": []
   },
   "outputs": [],
   "source": [
    "@njit(nogil=True)\n",
    "def f(x):\n",
    "    cache = empty((10, ), dtype=float64)\n",
    "    for i in range(cache.size):\n",
    "        cache[i] = x ** i\n",
    "    return cache\n",
    "\n",
    "result = empty((100, 10), dtype=float64)\n",
    "for i in range(result.shape[0]):\n",
    "    result[i] = f(i)"
   ]
  },
  {
   "cell_type": "markdown",
   "id": "3e7902c9-3f18-4113-9297-db37da05845f",
   "metadata": {},
   "source": [
    "Should become"
   ]
  },
  {
   "cell_type": "code",
   "execution_count": 13,
   "id": "9e3fe237-9778-473a-94f6-f2268c49b540",
   "metadata": {
    "slideshow": {
     "slide_type": "fragment"
    },
    "tags": []
   },
   "outputs": [],
   "source": [
    "@njit(nogil=True)\n",
    "def f(x, row):\n",
    "    for i in range(row.size):\n",
    "        row[i] = x ** i\n",
    "\n",
    "result = empty((100, 10), dtype=float64)\n",
    "for i in range(result.shape[0]):\n",
    "    f(i, result[i])"
   ]
  },
  {
   "cell_type": "markdown",
   "id": "2df69026-e5de-4837-9d5c-6eeba8046e46",
   "metadata": {
    "slideshow": {
     "slide_type": "slide"
    },
    "tags": []
   },
   "source": [
    "# Function signature"
   ]
  },
  {
   "cell_type": "markdown",
   "id": "7be7f08e-7801-4d72-ab31-b91b494509ed",
   "metadata": {
    "slideshow": {
     "slide_type": "fragment"
    },
    "tags": []
   },
   "source": [
    "Specifying types is one of the reason for starters to choose Python instead of another language.\n",
    "\n",
    "Though, it is a very strong tool to understand your code, fight errors and other beautiful things."
   ]
  },
  {
   "cell_type": "markdown",
   "id": "bc429c61-7e96-42ee-bfea-4d53e4658a14",
   "metadata": {
    "slideshow": {
     "slide_type": "fragment"
    },
    "tags": []
   },
   "source": [
    "It is not a rarity for us to make a function working only for specific types.\n",
    "We even have [mypy](http://mypy-lang.org/)."
   ]
  },
  {
   "cell_type": "markdown",
   "id": "9e7cbe39-c690-48ea-94bc-aeab95481172",
   "metadata": {
    "slideshow": {
     "slide_type": "fragment"
    },
    "tags": []
   },
   "source": [
    "What is so special about types in Numba?"
   ]
  },
  {
   "cell_type": "markdown",
   "id": "345c367b-a5ab-4847-b3f1-db45370b0a25",
   "metadata": {
    "slideshow": {
     "slide_type": "subslide"
    },
    "tags": []
   },
   "source": [
    "## Basic syntax"
   ]
  },
  {
   "cell_type": "markdown",
   "id": "58432f0e-0cce-4789-a7c6-97664adb0ecc",
   "metadata": {
    "slideshow": {
     "slide_type": "fragment"
    },
    "tags": []
   },
   "source": [
    "You can use a string to specify a signature for your function"
   ]
  },
  {
   "cell_type": "code",
   "execution_count": 14,
   "id": "b0f08900-67d9-4f94-b073-1760da42c00d",
   "metadata": {
    "slideshow": {
     "slide_type": "fragment"
    },
    "tags": []
   },
   "outputs": [],
   "source": [
    "@njit(\"int64(int64)\", nogil=True)\n",
    "def f(x):\n",
    "    return x"
   ]
  },
  {
   "cell_type": "markdown",
   "id": "5bb9eb44-4b73-4098-8f51-f97827e9689c",
   "metadata": {},
   "source": [
    "You can use `numba` types for this purpose"
   ]
  },
  {
   "cell_type": "code",
   "execution_count": 15,
   "id": "d7e68ad1-aaee-451a-8053-2b9636961643",
   "metadata": {
    "slideshow": {
     "slide_type": "fragment"
    },
    "tags": []
   },
   "outputs": [],
   "source": [
    "from numba import int32, int64\n",
    "\n",
    "@njit(int32(int64), nogil=True)\n",
    "def f(x):\n",
    "    return x"
   ]
  },
  {
   "cell_type": "markdown",
   "id": "bfcf4fc1-c40d-45c2-8363-428d2b606d38",
   "metadata": {},
   "source": [
    "N-dimensional arrays are made by adding `:` to a type because it has an overloaded `__getindex__` method"
   ]
  },
  {
   "cell_type": "code",
   "execution_count": 16,
   "id": "57b070d4-4758-4199-9115-ee8e13ea0d6e",
   "metadata": {
    "slideshow": {
     "slide_type": "fragment"
    },
    "tags": []
   },
   "outputs": [],
   "source": [
    "from numba import float32\n",
    "\n",
    "@njit(float32[:](float32[:, :]), nogil=True)\n",
    "def f(x):\n",
    "    return x[0]"
   ]
  },
  {
   "cell_type": "markdown",
   "id": "af849eaf-5b2c-4702-a2f8-a8d3d181f30f",
   "metadata": {
    "slideshow": {
     "slide_type": "subslide"
    },
    "tags": []
   },
   "source": [
    "## Data order"
   ]
  },
  {
   "cell_type": "markdown",
   "id": "693b7904-1888-4fd0-9e19-b07e59e2660f",
   "metadata": {
    "slideshow": {
     "slide_type": "fragment"
    },
    "tags": []
   },
   "source": [
    "Order of data in arrays may affect performance of your application.\n",
    "\n",
    "There are functions\n",
    "[numpy.ascontiguousarray](https://numpy.org/doc/stable/reference/generated/numpy.ascontiguousarray.html)\n",
    "and [numpy.asfortranarray](https://numpy.org/doc/stable/reference/generated/numpy.asfortranarray.html#numpy.asfortranarray)\n",
    "that can transform the array order."
   ]
  },
  {
   "cell_type": "markdown",
   "id": "cc157052-7d2d-45b9-a82e-9f3458710dd5",
   "metadata": {
    "slideshow": {
     "slide_type": "fragment"
    },
    "tags": []
   },
   "source": [
    "You can choose an axis which contains continuously stored data by using `::1` instead of `:`.\n",
    "Obviously, you cannot specify multiple axes with continuous data storage in one array."
   ]
  },
  {
   "cell_type": "code",
   "execution_count": 17,
   "id": "618d23c1-a954-41df-8ddc-0ddc393e5286",
   "metadata": {
    "slideshow": {
     "slide_type": "fragment"
    },
    "tags": []
   },
   "outputs": [],
   "source": [
    "from numba import float32\n",
    "\n",
    "@njit(float32[::1](float32[:, ::1]), nogil=True)\n",
    "def f(x):\n",
    "    return x[0]"
   ]
  },
  {
   "cell_type": "markdown",
   "id": "0129069d-5fab-4ce2-a1bf-318480fc007f",
   "metadata": {
    "slideshow": {
     "slide_type": "subslide"
    },
    "tags": []
   },
   "source": [
    "The first beautiful thing: `numba` will try to prevent you from creating a wrong signature"
   ]
  },
  {
   "cell_type": "code",
   "execution_count": 18,
   "id": "6784445e-6c0d-48cf-8a45-f9e30b5c3f25",
   "metadata": {
    "slideshow": {
     "slide_type": "fragment"
    },
    "tags": []
   },
   "outputs": [
    {
     "name": "stdout",
     "output_type": "stream",
     "text": [
      "Failed in nopython mode pipeline (step: nopython frontend)\n",
      "\u001b[1m\u001b[1mNo conversion from array(float32, 1d, A) to array(float32, 1d, C) for '$8return_value.3', defined at None\n",
      "\u001b[1m\n",
      "File \"../../../../tmp/ipykernel_1099/1126163961.py\", line 4:\u001b[0m\n",
      "\u001b[1m<source missing, REPL/exec in use?>\u001b[0m\n",
      "\u001b[0m\n",
      "\u001b[0m\u001b[1mDuring: typing of assignment at /tmp/ipykernel_1099/1126163961.py (4)\u001b[0m\n",
      "\u001b[1m\n",
      "File \"../../../../tmp/ipykernel_1099/1126163961.py\", line 4:\u001b[0m\n",
      "\u001b[1m<source missing, REPL/exec in use?>\u001b[0m\n",
      "\n"
     ]
    }
   ],
   "source": [
    "try:\n",
    "    @njit(float32[::1](float32[::1, :]), nogil=True)\n",
    "    def f(x):\n",
    "        return x[0]\n",
    "except TypingError as e:\n",
    "    print(e)"
   ]
  },
  {
   "cell_type": "markdown",
   "id": "4e74e0af-f66c-4c80-9277-2ec79be343c3",
   "metadata": {
    "slideshow": {
     "slide_type": "subslide"
    },
    "tags": []
   },
   "source": [
    "Even like this"
   ]
  },
  {
   "cell_type": "code",
   "execution_count": 19,
   "id": "179cfdc4-849f-4c89-b61d-80aabff20895",
   "metadata": {
    "slideshow": {
     "slide_type": "fragment"
    },
    "tags": []
   },
   "outputs": [
    {
     "name": "stdout",
     "output_type": "stream",
     "text": [
      "Failed in nopython mode pipeline (step: nopython frontend)\n",
      "\u001b[1m\u001b[1mNo conversion from complex64 to float32 for '$16return_value.3', defined at None\n",
      "\u001b[1m\n",
      "File \"../../../../tmp/ipykernel_1099/489888538.py\", line 7:\u001b[0m\n",
      "\u001b[1m<source missing, REPL/exec in use?>\u001b[0m\n",
      "\u001b[0m\n",
      "\u001b[0m\u001b[1mDuring: typing of assignment at /tmp/ipykernel_1099/489888538.py (7)\u001b[0m\n",
      "\u001b[1m\n",
      "File \"../../../../tmp/ipykernel_1099/489888538.py\", line 7:\u001b[0m\n",
      "\u001b[1m<source missing, REPL/exec in use?>\u001b[0m\n",
      "\n"
     ]
    }
   ],
   "source": [
    "from numba import float32, complex64\n",
    "\n",
    "try:\n",
    "    @njit(float32(float32), nogil=True)\n",
    "    def f(x):\n",
    "        if x > 0:\n",
    "            return complex64(x)\n",
    "        else:\n",
    "            return float32(x)\n",
    "except TypingError as e:\n",
    "    print(e)"
   ]
  },
  {
   "cell_type": "markdown",
   "id": "53d9bccf-f03f-4210-bafa-2678d20842d7",
   "metadata": {
    "slideshow": {
     "slide_type": "subslide"
    },
    "tags": []
   },
   "source": [
    "What is the difference between those orders?"
   ]
  },
  {
   "cell_type": "code",
   "execution_count": 20,
   "id": "99970bf3-959e-469a-a416-be8f42da2a06",
   "metadata": {
    "slideshow": {
     "slide_type": "fragment"
    },
    "tags": []
   },
   "outputs": [],
   "source": [
    "from numba import float64\n",
    "\n",
    "@njit(float64(float64[:, ::1]), nogil=True)\n",
    "def row_major(x):\n",
    "    result = 0\n",
    "    for i in range(x.shape[0]):\n",
    "        for j in range(x.shape[1]):\n",
    "            result += x[i, j]\n",
    "    return result\n",
    "\n",
    "@njit(float64(float64[::1, :]), nogil=True)\n",
    "def column_major(x):\n",
    "    result = 0\n",
    "    for i in range(x.shape[0]):\n",
    "        for j in range(x.shape[1]):\n",
    "            result += x[i, j]\n",
    "    return result"
   ]
  },
  {
   "cell_type": "markdown",
   "id": "ba148787-373a-459a-bab7-8a4027a76462",
   "metadata": {
    "slideshow": {
     "slide_type": "fragment"
    },
    "tags": []
   },
   "source": [
    "The difference is noticeable"
   ]
  },
  {
   "cell_type": "code",
   "execution_count": 21,
   "id": "55a1c2d8-c0f9-4405-9b78-55bb17a03e3a",
   "metadata": {
    "slideshow": {
     "slide_type": "fragment"
    },
    "tags": []
   },
   "outputs": [
    {
     "name": "stdout",
     "output_type": "stream",
     "text": [
      "Row-major took    0.55s\n",
      "Column-major took 1.7s\n"
     ]
    }
   ],
   "source": [
    "a = ascontiguousarray(random((50_000, 10_000)))\n",
    "b = asfortranarray(a)\n",
    "\n",
    "start = time()\n",
    "row_major(a)\n",
    "print(f\"Row-major took    {time() - start:>.2}s\")\n",
    "\n",
    "start = time()\n",
    "column_major(b)\n",
    "print(f\"Column-major took {time() - start:>.2}s\")\n",
    "\n",
    "del a\n",
    "del b"
   ]
  },
  {
   "cell_type": "markdown",
   "id": "f7ee27af-d423-4e04-ace6-357d569237ed",
   "metadata": {
    "slideshow": {
     "slide_type": "subslide"
    },
    "tags": []
   },
   "source": [
    "It can even help `numpy`"
   ]
  },
  {
   "cell_type": "code",
   "execution_count": 22,
   "id": "6625449a-3c4d-472c-9d84-cbf33108688c",
   "metadata": {
    "slideshow": {
     "slide_type": "fragment"
    },
    "tags": []
   },
   "outputs": [
    {
     "name": "stdout",
     "output_type": "stream",
     "text": [
      "Row-major took    0.18s\n",
      "Column-major took 0.36s\n"
     ]
    }
   ],
   "source": [
    "a = ascontiguousarray(random((20_000, 20_000)))\n",
    "\n",
    "start = time()\n",
    "c = a.min(axis=1)\n",
    "print(f\"Row-major took    {time() - start:>.2}s\")\n",
    "\n",
    "b = asfortranarray(a)\n",
    "del a\n",
    "start = time()\n",
    "c = b.min(axis=1)\n",
    "print(f\"Column-major took {time() - start:>.2}s\")\n",
    "\n",
    "del b\n",
    "del c"
   ]
  }
 ],
 "metadata": {
  "kernelspec": {
   "display_name": "Python 3 (ipykernel)",
   "language": "python",
   "name": "python3"
  },
  "language_info": {
   "codemirror_mode": {
    "name": "ipython",
    "version": 3
   },
   "file_extension": ".py",
   "mimetype": "text/x-python",
   "name": "python",
   "nbconvert_exporter": "python",
   "pygments_lexer": "ipython3",
   "version": "3.9.7"
  }
 },
 "nbformat": 4,
 "nbformat_minor": 5
}
