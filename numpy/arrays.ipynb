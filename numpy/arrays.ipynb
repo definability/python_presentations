{
 "cells": [
  {
   "cell_type": "markdown",
   "metadata": {
    "slideshow": {
     "slide_type": "slide"
    }
   },
   "source": [
    "# Arrays\n",
    "\n",
    "NumPy deals just perfect with arrays, because of\n",
    "- advanced overload of `__getitem__` operator for indexing, which is handy;\n",
    "- overload of other operators for comfortable shortcuts and intuitive interface;\n",
    "- methods and functions implemented in `C` language and powered by SIMD, which is fast;\n",
    "- rich library of functions and methods, which allows you to do almost whatever you want."
   ]
  },
  {
   "cell_type": "markdown",
   "metadata": {
    "slideshow": {
     "slide_type": "slide"
    }
   },
   "source": [
    "# Creating arrays"
   ]
  },
  {
   "cell_type": "code",
   "execution_count": 1,
   "metadata": {
    "collapsed": false,
    "jupyter": {
     "outputs_hidden": false
    },
    "slideshow": {
     "slide_type": "fragment"
    }
   },
   "outputs": [
    {
     "name": "stdout",
     "output_type": "stream",
     "text": [
      "NumPy version of this slideshow is 1.20.3\n"
     ]
    }
   ],
   "source": [
    "from numpy import array, __version__\n",
    "print(\"NumPy version of this slideshow is\", __version__)"
   ]
  },
  {
   "cell_type": "code",
   "execution_count": 2,
   "metadata": {},
   "outputs": [
    {
     "name": "stdout",
     "output_type": "stream",
     "text": [
      "[1 2 3]\n"
     ]
    }
   ],
   "source": [
    "arr = array([1, 2, 3])\n",
    "print(arr)"
   ]
  },
  {
   "cell_type": "markdown",
   "metadata": {
    "slideshow": {
     "slide_type": "fragment"
    }
   },
   "source": [
    "You just have to provide `array` constructor of `numpy` module with `iterable` type."
   ]
  },
  {
   "cell_type": "markdown",
   "metadata": {
    "slideshow": {
     "slide_type": "subslide"
    }
   },
   "source": [
    "More examples"
   ]
  },
  {
   "cell_type": "code",
   "execution_count": 3,
   "metadata": {
    "collapsed": false,
    "jupyter": {
     "outputs_hidden": false
    },
    "slideshow": {
     "slide_type": "-"
    }
   },
   "outputs": [
    {
     "name": "stdout",
     "output_type": "stream",
     "text": [
      "Range demo: [0 1 2 3 4 5 6 7 8 9]\n",
      "Matrix demo: [[1 2]\n",
      " [3 4]]\n",
      "Array of NumPy arrays: [[[1 2]\n",
      "  [3 4]]\n",
      "\n",
      " [[1 2]\n",
      "  [3 4]]]\n",
      "Something strange: [list([1]) 2]\n"
     ]
    }
   ],
   "source": [
    "ten = array(range(10))\n",
    "matrix = array([[1,2], [3, 4]])\n",
    "nested_matrix = array([matrix, matrix])\n",
    "strange_array = array([[1], 2], dtype=object)\n",
    "\n",
    "print('Range demo:', ten)\n",
    "print('Matrix demo:', matrix)\n",
    "print('Array of NumPy arrays:', nested_matrix)\n",
    "print('Something strange:', strange_array)"
   ]
  },
  {
   "cell_type": "markdown",
   "metadata": {
    "slideshow": {
     "slide_type": "slide"
    }
   },
   "source": [
    "# Types\n",
    "\n",
    "NumPy can be fast, because it allows you to create arrays with elements of `C` language [types](http://docs.scipy.org/doc/numpy/user/basics.types.html)"
   ]
  },
  {
   "cell_type": "markdown",
   "metadata": {
    "slideshow": {
     "slide_type": "subslide"
    },
    "tags": []
   },
   "source": [
    "## Shorthands\n",
    "\n",
    "Here you can see intuitive names of types to use\n",
    "\n",
    "| Data type  | Description |\n",
    "|------------|-------------|\n",
    "| bool       | Boolean (True or False) stored as a byte |\n",
    "| int        | Default integer type (same as C long; normally either int64 or int32) |\n",
    "| float      | Shorthand for float64. |\n",
    "| complex    | Shorthand for complex128. |"
   ]
  },
  {
   "cell_type": "markdown",
   "metadata": {
    "slideshow": {
     "slide_type": "subslide"
    }
   },
   "source": [
    "## Integers\n",
    "\n",
    "If you need to use integers of specific sizes\n",
    "- use its size in bits as a suffix;\n",
    "- add `u` prefix to denote `unsigned` value.\n",
    "\n",
    "| Data type  | Description |\n",
    "|------------|-------------|\n",
    "| int8       | Byte (-128 to 127) |\n",
    "| int16      | Integer (-32768 to 32767) |\n",
    "| int32      | Integer (-2147483648 to 2147483647) |\n",
    "| int64      | Integer (-9223372036854775808 to 9223372036854775807) |\n",
    "| uint8      | Unsigned integer (0 to 255) |\n",
    "| uint16     | Unsigned integer (0 to 65535) |\n",
    "| uint32     | Unsigned integer (0 to 4294967295) |\n",
    "| uint64     | Unsigned integer (0 to 18446744073709551615) |"
   ]
  },
  {
   "cell_type": "markdown",
   "metadata": {
    "slideshow": {
     "slide_type": "subslide"
    }
   },
   "source": [
    "## Floating point and complex\n",
    "\n",
    "There is [IEEE-754](https://en.wikipedia.org/wiki/IEEE_floating_point#IEEE_754-2008) standard for floating point arithmetics, which describes format of half (16 bits), single (32 bits), double (64 bits), quadruple (128 bits) and octuple (256 bits) numbers\n",
    "\n",
    "Standard `C` has single precision `float`, double precision `double` and additional `long double` which is at least as accurate as regular `double`\n",
    "\n",
    "| Data type  | Description |\n",
    "|------------|-------------|\n",
    "| float16    | Half precision float: sign bit, 5 bits exponent, 10 bits mantissa |\n",
    "| float32    | Single precision float: sign bit, 8 bits exponent, 23 bits mantissa |\n",
    "| float64    | Double precision float: sign bit, 11 bits exponent, 52 bits mantissa |\n",
    "| complex64  | Complex number, represented by two 32-bit floats (real and imaginary components) |\n",
    "| complex128 | Complex number, represented by two 64-bit floats (real and imaginary components) |"
   ]
  },
  {
   "cell_type": "markdown",
   "metadata": {
    "slideshow": {
     "slide_type": "slide"
    }
   },
   "source": [
    "# Specify data type\n",
    "\n",
    "NumPy `array` has a string `dtype` property to store and specify data type"
   ]
  },
  {
   "cell_type": "code",
   "execution_count": 4,
   "metadata": {
    "collapsed": false,
    "jupyter": {
     "outputs_hidden": false
    }
   },
   "outputs": [
    {
     "name": "stdout",
     "output_type": "stream",
     "text": [
      "You have {int_array} array of type {int_array.dtype}\n"
     ]
    }
   ],
   "source": [
    "int_array = array([1., 2.5, -0.7], dtype=int)\n",
    "print('You have {int_array} array of type {int_array.dtype}')"
   ]
  },
  {
   "cell_type": "markdown",
   "metadata": {
    "slideshow": {
     "slide_type": "fragment"
    }
   },
   "source": [
    "Note that typecast was made automatically"
   ]
  },
  {
   "cell_type": "markdown",
   "metadata": {
    "slideshow": {
     "slide_type": "subslide"
    }
   },
   "source": [
    "NumPy will not allow you to create wrong array with specific type"
   ]
  },
  {
   "cell_type": "code",
   "execution_count": 5,
   "metadata": {
    "collapsed": false,
    "jupyter": {
     "outputs_hidden": false
    }
   },
   "outputs": [
    {
     "name": "stdout",
     "output_type": "stream",
     "text": [
      "setting an array element with a sequence. The requested array has an inhomogeneous shape after 1 dimensions. The detected shape was (2,) + inhomogeneous part.\n"
     ]
    }
   ],
   "source": [
    "try:\n",
    "    array([[0], 1], dtype=int)\n",
    "except ValueError as e:\n",
    "    print(e)"
   ]
  },
  {
   "cell_type": "markdown",
   "metadata": {
    "slideshow": {
     "slide_type": "subslide"
    }
   },
   "source": [
    "NumPy assigned data type automatically, if it was not specified"
   ]
  },
  {
   "cell_type": "code",
   "execution_count": 6,
   "metadata": {
    "collapsed": false,
    "jupyter": {
     "outputs_hidden": false
    }
   },
   "outputs": [
    {
     "name": "stdout",
     "output_type": "stream",
     "text": [
      "int64: [1 2 3]\n",
      "float64: [[1. 2.]\n",
      " [3. 4.]]\n",
      "<U11: Hello world\n"
     ]
    }
   ],
   "source": [
    "arrays = [\n",
    "    array([1, 2, 3]),\n",
    "    array(((1, 2), (3, 4.))),\n",
    "    array('Hello world')\n",
    "]\n",
    "for a in arrays:\n",
    "    print('{0.dtype}: {0}'.format(a))"
   ]
  },
  {
   "cell_type": "markdown",
   "metadata": {
    "slideshow": {
     "slide_type": "fragment"
    }
   },
   "source": [
    "Interesting thing: we explored new types!\n",
    "\n",
    "Type `object` is used when we cannot say for sure that we have `n`-dimensional array of numbers"
   ]
  },
  {
   "cell_type": "markdown",
   "metadata": {
    "slideshow": {
     "slide_type": "slide"
    }
   },
   "source": [
    "# Operations on arrays\n",
    "\n",
    "You can simply apply elementwise operations"
   ]
  },
  {
   "cell_type": "code",
   "execution_count": 7,
   "metadata": {
    "collapsed": false,
    "jupyter": {
     "outputs_hidden": false
    }
   },
   "outputs": [
    {
     "name": "stdout",
     "output_type": "stream",
     "text": [
      "Arithmetic\n",
      "[0 1 2 3] +  [4 5 6 7] = [ 4  6  8 10]\n",
      "[0 1 2 3] *  [4 5 6 7] = [ 0  5 12 21]\n",
      "[0 1 2 3] ** [4 5 6 7] = [   0    1   64 2187]\n",
      "[0 1 2 3] /  [4 5 6 7] = [0.         0.2        0.33333333 0.42857143]\n",
      "Binary\n",
      "[0 1 2 3] ^  [4 5 6 7] = [4 4 4 4]\n",
      "[0 1 2 3] |  [4 5 6 7] = [4 5 6 7]\n",
      "[0 1 2 3] &  [4 5 6 7] = [0 1 2 3]\n"
     ]
    }
   ],
   "source": [
    "LENGTH = 4\n",
    "a, b = array(range(LENGTH)), array(range(LENGTH, LENGTH*2))\n",
    "print('Arithmetic')\n",
    "print(f'{a} +  {b} = {a + b}')\n",
    "print(f'{a} *  {b} = {a * b}')\n",
    "print(f'{a} ** {b} = {a ** b}')\n",
    "print(f'{a} /  {b} = {a / b}')\n",
    "print('Binary')\n",
    "print(f'{a} ^  {b} = {a ^ b}')\n",
    "print(f'{a} |  {b} = {a | b}')\n",
    "print(f'{a} &  {b} = {a & b}')"
   ]
  },
  {
   "cell_type": "markdown",
   "metadata": {
    "slideshow": {
     "slide_type": "slide"
    }
   },
   "source": [
    "# Indexing\n",
    "\n",
    "Indexing of NumPy arrays is very agile\n",
    "\n",
    "Just look on entitites which can be used as an index\n",
    "- boolean arrays;\n",
    "- integer arrays;\n",
    "- numbers;\n",
    "- Ellipsis;\n",
    "- tuples of them;\n",
    "- etc."
   ]
  },
  {
   "cell_type": "markdown",
   "metadata": {
    "slideshow": {
     "slide_type": "subslide"
    }
   },
   "source": [
    "## Integers array\n",
    "\n",
    "You can get values from array by `iterable` (but not tuples) of indices"
   ]
  },
  {
   "cell_type": "code",
   "execution_count": 8,
   "metadata": {
    "collapsed": false,
    "jupyter": {
     "outputs_hidden": false
    }
   },
   "outputs": [
    {
     "name": "stdout",
     "output_type": "stream",
     "text": [
      "Indexed by [1, 5, 8]     : [1 5 8]\n",
      "Indexed by range(1, 6, 2): [1 3 5]\n",
      "Indexed by [ 8  0 -1]    : [8 0 9]\n"
     ]
    }
   ],
   "source": [
    "arr = array(range(10))\n",
    "indices_list = [\n",
    "    [1, 5, 8],\n",
    "    range(1, 6, 2),\n",
    "    array([8, 0, -1], dtype='int8')\n",
    "]\n",
    "\n",
    "for indices in indices_list:\n",
    "    print(f'Indexed by {str(indices):<14}: {arr[indices]}')"
   ]
  },
  {
   "cell_type": "markdown",
   "metadata": {
    "slideshow": {
     "slide_type": "subslide"
    }
   },
   "source": [
    "## Boolean array\n",
    "\n",
    "Boolean arrays can be result of comparison and syntax of its usage is very handy"
   ]
  },
  {
   "cell_type": "code",
   "execution_count": 9,
   "metadata": {
    "collapsed": false,
    "jupyter": {
     "outputs_hidden": false
    }
   },
   "outputs": [
    {
     "name": "stdout",
     "output_type": "stream",
     "text": [
      "Mask for items greater than 2: [False False False  True  True]\n",
      "Items greater than 2:          [3 4]\n"
     ]
    }
   ],
   "source": [
    "arr = array(range(5))\n",
    "\n",
    "print('Mask for items greater than 2:', arr > 2)\n",
    "print('Items greater than 2:         ', arr[arr>2])"
   ]
  },
  {
   "cell_type": "markdown",
   "metadata": {
    "slideshow": {
     "slide_type": "fragment"
    }
   },
   "source": [
    "This can be read as \"Give me the numbers which are greater than two\""
   ]
  },
  {
   "cell_type": "markdown",
   "metadata": {
    "slideshow": {
     "slide_type": "subslide"
    }
   },
   "source": [
    "What you actually asked for\n",
    "- get elementwise comparison of array with scalar\n",
    "- provide me with array of results\n",
    "- fetch elements from the array, which are correspond to `True`\n",
    "\n",
    "This means that you can use another array to get values from this one"
   ]
  },
  {
   "cell_type": "code",
   "execution_count": 10,
   "metadata": {
    "collapsed": false,
    "jupyter": {
     "outputs_hidden": false
    }
   },
   "outputs": [
    {
     "name": "stdout",
     "output_type": "stream",
     "text": [
      "[3 4]\n"
     ]
    }
   ],
   "source": [
    "a, b = array(range(0, 5)), array(range(5, 10))\n",
    "\n",
    "print(a[b>7])"
   ]
  },
  {
   "cell_type": "markdown",
   "metadata": {},
   "source": [
    "This gives you elements from array `a`, corresponding elements from `b` of which are greater than `7`"
   ]
  },
  {
   "cell_type": "markdown",
   "metadata": {
    "slideshow": {
     "slide_type": "subslide"
    }
   },
   "source": [
    "## Tuple\n",
    "\n",
    "Tuples are used to access `n`-dimensional array elements"
   ]
  },
  {
   "cell_type": "code",
   "execution_count": 11,
   "metadata": {
    "collapsed": false,
    "jupyter": {
     "outputs_hidden": false
    }
   },
   "outputs": [
    {
     "name": "stdout",
     "output_type": "stream",
     "text": [
      "We have a matrix of shape (3, 3)\n",
      "Regular Python indexing    2\n",
      "Implicit tuple declaration 2\n",
      "Explicit tuple declaration 2\n"
     ]
    }
   ],
   "source": [
    "matrix = array([range(3*i, 3*(i+1)) for i in range(3)])\n",
    "\n",
    "print('We have a matrix of shape', matrix.shape)\n",
    "print('Regular Python indexing   ', matrix[0][2])\n",
    "print('Implicit tuple declaration', matrix[0, 2])\n",
    "print('Explicit tuple declaration', matrix[(0, 2)])"
   ]
  },
  {
   "cell_type": "markdown",
   "metadata": {
    "slideshow": {
     "slide_type": "subslide"
    }
   },
   "source": [
    "It was noted that we can use \"tuple of them\"\n",
    "\n",
    "This means that it can contain not only numbers but arrays and slices"
   ]
  },
  {
   "cell_type": "code",
   "execution_count": 12,
   "metadata": {
    "collapsed": false,
    "jupyter": {
     "outputs_hidden": false
    }
   },
   "outputs": [
    {
     "name": "stdout",
     "output_type": "stream",
     "text": [
      "All elements of the first column [0 3 6]\n",
      "Get elements of the second column [1 4 7]\n",
      "Pick first and last column [[0 2]\n",
      " [3 5]\n",
      " [6 8]]\n",
      "Get only first row [0 1 2]\n",
      "You could do this easier but nevermind [0 1 2]\n",
      "Get first two elements of the third column [2 5]\n"
     ]
    }
   ],
   "source": [
    "print('All elements of the first column', matrix[:, 0])\n",
    "print('Get elements of the second column', matrix[:, 1])\n",
    "print('Pick first and last column', matrix[:, 0:3:2])\n",
    "print('Get only first row', matrix[0, :])\n",
    "print('You could do this easier but nevermind', matrix[0])\n",
    "print('Get first two elements of the third column', matrix[0:2, 2])"
   ]
  },
  {
   "cell_type": "markdown",
   "metadata": {
    "slideshow": {
     "slide_type": "subslide"
    }
   },
   "source": [
    "## Ellipsis\n",
    "\n",
    "`Ellipsis` is a type for `ellipsis` constant written as `...` (three dots)\n",
    "\n",
    "It's very handy to be used in your own iterable types indexing when you want to skip some entries"
   ]
  },
  {
   "cell_type": "markdown",
   "metadata": {
    "slideshow": {
     "slide_type": "subslide"
    }
   },
   "source": [
    "Аollowing example usage of `ellipsis` is useдуыы because it behaves just like fetch of all elements"
   ]
  },
  {
   "cell_type": "code",
   "execution_count": 13,
   "metadata": {
    "collapsed": false,
    "jupyter": {
     "outputs_hidden": false
    }
   },
   "outputs": [
    {
     "name": "stdout",
     "output_type": "stream",
     "text": [
      "[0 1 2 3 4]\n",
      "[0 1 2 3 4]\n",
      "[0 1 2 3 4]\n"
     ]
    }
   ],
   "source": [
    "a = array(range(5))\n",
    "\n",
    "print(a)\n",
    "print(a[:])\n",
    "print(a[...])"
   ]
  },
  {
   "cell_type": "markdown",
   "metadata": {
    "slideshow": {
     "slide_type": "-"
    }
   },
   "source": [
    "Though it's useful for `n`-dimensional arrays when you want to skip multiple dimensions"
   ]
  },
  {
   "cell_type": "code",
   "execution_count": 14,
   "metadata": {
    "collapsed": false,
    "jupyter": {
     "outputs_hidden": false
    }
   },
   "outputs": [
    {
     "name": "stdout",
     "output_type": "stream",
     "text": [
      "Here is array of shape (3, 3, 3): [[[ 0  1  2]\n",
      "  [ 3  4  5]\n",
      "  [ 6  7  8]]\n",
      "\n",
      " [[ 3  4  5]\n",
      "  [ 6  7  8]\n",
      "  [ 9 10 11]]\n",
      "\n",
      " [[ 6  7  8]\n",
      "  [ 9 10 11]\n",
      "  [12 13 14]]]\n"
     ]
    }
   ],
   "source": [
    "array3d = array([[range(3*(i+j), 3*(i+j+1)) for i in range(3)] for j in range(3)])\n",
    "print(f'Here is array of shape {array3d.shape}: {array3d}')"
   ]
  },
  {
   "cell_type": "markdown",
   "metadata": {
    "slideshow": {
     "slide_type": "subslide"
    }
   },
   "source": [
    "Element of this array is a matrix, element of which is an array"
   ]
  },
  {
   "cell_type": "code",
   "execution_count": 15,
   "metadata": {
    "collapsed": false,
    "jupyter": {
     "outputs_hidden": false
    }
   },
   "outputs": [
    {
     "name": "stdout",
     "output_type": "stream",
     "text": [
      "Item is a matrix of shape (3, 3): [[0 1 2]\n",
      " [3 4 5]\n",
      " [6 7 8]]\n",
      "Item of the matrix is an array of shape (3,): [0 1 2]\n",
      "Don`t forget about tuples: [0 1 2]\n"
     ]
    }
   ],
   "source": [
    "print(f'Item is a matrix of shape {array3d[0].shape}: {array3d[0]}')\n",
    "print(f'Item of the matrix is an array of shape {array3d[0][0].shape}: {array3d[0][0]}')\n",
    "print(f'Don`t forget about tuples: {array3d[0, 0]}')"
   ]
  },
  {
   "cell_type": "markdown",
   "metadata": {
    "slideshow": {
     "slide_type": "subslide"
    }
   },
   "source": [
    "If you want to get only last elements of each row in this huge thing you can do following"
   ]
  },
  {
   "cell_type": "code",
   "execution_count": 16,
   "metadata": {
    "collapsed": false,
    "jupyter": {
     "outputs_hidden": false
    }
   },
   "outputs": [
    {
     "data": {
      "text/plain": [
       "array([[ 2,  5,  8],\n",
       "       [ 5,  8, 11],\n",
       "       [ 8, 11, 14]])"
      ]
     },
     "execution_count": 16,
     "metadata": {},
     "output_type": "execute_result"
    }
   ],
   "source": [
    "array3d[:, :, -1]"
   ]
  },
  {
   "cell_type": "markdown",
   "metadata": {
    "slideshow": {
     "slide_type": "fragment"
    }
   },
   "source": [
    "Also you can avoid these slices and use `ellipsis`"
   ]
  },
  {
   "cell_type": "code",
   "execution_count": 17,
   "metadata": {
    "collapsed": false,
    "jupyter": {
     "outputs_hidden": false
    }
   },
   "outputs": [
    {
     "data": {
      "text/plain": [
       "array([[ 2,  5,  8],\n",
       "       [ 5,  8, 11],\n",
       "       [ 8, 11, 14]])"
      ]
     },
     "execution_count": 17,
     "metadata": {},
     "output_type": "execute_result"
    }
   ],
   "source": [
    "array3d[..., -1]"
   ]
  },
  {
   "cell_type": "markdown",
   "metadata": {
    "slideshow": {
     "slide_type": "subslide"
    }
   },
   "source": [
    "`Ellipsis` can be placed in the middle or in the end\n",
    "\n",
    "It will mean that you fetch all elements from not specified dimensions"
   ]
  },
  {
   "cell_type": "code",
   "execution_count": 18,
   "metadata": {
    "collapsed": false,
    "jupyter": {
     "outputs_hidden": false
    }
   },
   "outputs": [
    {
     "name": "stdout",
     "output_type": "stream",
     "text": [
      "First matrix with all elements [[0 1 2]\n",
      " [3 4 5]\n",
      " [6 7 8]]\n",
      "First elements of all rows of the second matrix [3 6 9]\n"
     ]
    }
   ],
   "source": [
    "print('First matrix with all elements', array3d[0, ...])\n",
    "print('First elements of all rows of the second matrix', array3d[1, ..., 0])"
   ]
  }
 ],
 "metadata": {
  "celltoolbar": "Slideshow",
  "kernelspec": {
   "display_name": "Python 3 (ipykernel)",
   "language": "python",
   "name": "python3"
  },
  "language_info": {
   "codemirror_mode": {
    "name": "ipython",
    "version": 3
   },
   "file_extension": ".py",
   "mimetype": "text/x-python",
   "name": "python",
   "nbconvert_exporter": "python",
   "pygments_lexer": "ipython3",
   "version": "3.9.7"
  },
  "widgets": {
   "state": {},
   "version": "1.1.2"
  }
 },
 "nbformat": 4,
 "nbformat_minor": 4
}
